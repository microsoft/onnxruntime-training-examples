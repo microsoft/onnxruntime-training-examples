{
 "cells": [
  {
   "attachments": {},
   "cell_type": "markdown",
   "metadata": {},
   "source": [
    "## Learning on the edge: Scenario - Transfer learning for image classification"
   ]
  },
  {
   "attachments": {},
   "cell_type": "markdown",
   "metadata": {},
   "source": [
    "The demo showcases the use of the ort training api for the an image classification scenario. This demo shows:\n",
    "  - Offline step: Creation of the training artifacts. This is done in [mobilenetv2.ipynb](mobilenetv2.ipynb)\n",
    "  - Offline step: Training validation with generated training artifacts in python. This is done in [train.ipynb](train.ipynb)\n",
    "  - Online step: The android app that leverages the C++ ort training api. This is shown in [android_app](android_app)\n",
    "\n",
    "We will be using a pretrained mobilenetv2 model, which has been trained on the imagenet dataset. This model can classify an image into 1 of 1000 image categories. For this demo, we will be leveraging this model for a custom classification task to classify images into 1 of 4 categories using transfer learning.\n",
    "\n"
   ]
  }
 ],
 "metadata": {
  "kernelspec": {
   "display_name": "base",
   "language": "python",
   "name": "python3"
  },
  "language_info": {
   "name": "python",
   "version": "3.9.13"
  },
  "orig_nbformat": 4,
  "vscode": {
   "interpreter": {
    "hash": "d4d1e4263499bec80672ea0156c357c1ee493ec2b1c70f0acce89fc37c4a6abe"
   }
  }
 },
 "nbformat": 4,
 "nbformat_minor": 2
}

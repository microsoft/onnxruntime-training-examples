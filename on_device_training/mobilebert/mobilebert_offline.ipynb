{
 "cells": [
  {
   "attachments": {},
   "cell_type": "markdown",
   "metadata": {},
   "source": [
    "## library imports"
   ]
  },
  {
   "cell_type": "code",
   "execution_count": 31,
   "metadata": {},
   "outputs": [],
   "source": [
    "import torch\n",
    "import transformers\n",
    "import onnx\n",
    "import onnxruntime.training.onnxblock as onnxblock"
   ]
  },
  {
   "attachments": {},
   "cell_type": "markdown",
   "metadata": {},
   "source": [
    "## generating artifacts"
   ]
  },
  {
   "cell_type": "code",
   "execution_count": 4,
   "metadata": {},
   "outputs": [
    {
     "name": "stderr",
     "output_type": "stream",
     "text": [
      "Some weights of the model checkpoint at google/mobilebert-uncased were not used when initializing MobileBertModel: ['cls.predictions.transform.dense.weight', 'cls.predictions.decoder.bias', 'cls.seq_relationship.bias', 'cls.predictions.decoder.weight', 'cls.predictions.bias', 'cls.predictions.transform.dense.bias', 'cls.predictions.dense.weight', 'cls.seq_relationship.weight', 'cls.predictions.transform.LayerNorm.weight', 'cls.predictions.transform.LayerNorm.bias']\n",
      "- This IS expected if you are initializing MobileBertModel from the checkpoint of a model trained on another task or with another architecture (e.g. initializing a BertForSequenceClassification model from a BertForPreTraining model).\n",
      "- This IS NOT expected if you are initializing MobileBertModel from the checkpoint of a model that you expect to be exactly identical (initializing a BertForSequenceClassification model from a BertForSequenceClassification model).\n"
     ]
    }
   ],
   "source": [
    "model = transformers.AutoModel.from_pretrained('google/mobilebert-uncased')\n",
    "model_name = 'mobilebert-uncased'"
   ]
  },
  {
   "cell_type": "code",
   "execution_count": 25,
   "metadata": {},
   "outputs": [],
   "source": [
    "# ... painstakingly create the random input bc idrk how to do this efficiently\n",
    "\n",
    "# expects\n",
    "# input_ids = torch.LongTensor of shape (batch size, seq len)\n",
    "# attention_mask = torch.FloatTensor of shape (batch size, seq len)\n",
    "# token_type_ids = torch.LongTensor of shape (bs, seq len)\n",
    "\n",
    "batch_size = 2\n",
    "seq_len = 25\n",
    "vocab = 20000\n",
    "input_ids = torch.randint(vocab, (batch_size, seq_len))\n",
    "attention_mask = torch.ones((batch_size, seq_len), dtype=torch.float)\n",
    "token_type_ids = torch.ones((batch_size, seq_len), dtype=torch.long)\n"
   ]
  },
  {
   "cell_type": "code",
   "execution_count": 28,
   "metadata": {},
   "outputs": [
    {
     "name": "stderr",
     "output_type": "stream",
     "text": [
      "/bert_ort/carolinezhu/e2edemos/lib/python3.9/site-packages/transformers/models/mobilebert/modeling_mobilebert.py:547: TracerWarning: torch.tensor results are registered as constants in the trace. You can safely ignore this warning if you use this function to create tensors out of constant variables that would be the same every time you call this function. In any other case, this might cause the trace to be incorrect.\n",
      "  torch.tensor(1000),\n",
      "/bert_ort/carolinezhu/e2edemos/lib/python3.9/site-packages/torch/onnx/_internal/jit_utils.py:258: UserWarning: Constant folding - Only steps=1 can be constant folded for opset >= 10 onnx::Slice op. Constant folding not applied. (Triggered internally at ../torch/csrc/jit/passes/onnx/constant_fold.cpp:179.)\n",
      "  _C._jit_pass_onnx_node_shape_type_inference(node, params_dict, opset_version)\n",
      "/bert_ort/carolinezhu/e2edemos/lib/python3.9/site-packages/torch/onnx/utils.py:687: UserWarning: Constant folding - Only steps=1 can be constant folded for opset >= 10 onnx::Slice op. Constant folding not applied. (Triggered internally at ../torch/csrc/jit/passes/onnx/constant_fold.cpp:179.)\n",
      "  _C._jit_pass_onnx_graph_shape_type_inference(\n",
      "/bert_ort/carolinezhu/e2edemos/lib/python3.9/site-packages/torch/onnx/utils.py:1178: UserWarning: Constant folding - Only steps=1 can be constant folded for opset >= 10 onnx::Slice op. Constant folding not applied. (Triggered internally at ../torch/csrc/jit/passes/onnx/constant_fold.cpp:179.)\n",
      "  _C._jit_pass_onnx_graph_shape_type_inference(\n"
     ]
    }
   ],
   "source": [
    "torch.onnx.export(model, (input_ids, attention_mask, token_type_ids),\n",
    "                  f\"training_artifacts/{model_name}.onnx\", \n",
    "                  input_names=[\"input_ids\", \"attention_mask\", \"token_type_ids\"],\n",
    "                  output_names=[\"output\"])"
   ]
  },
  {
   "cell_type": "code",
   "execution_count": 32,
   "metadata": {},
   "outputs": [],
   "source": [
    "class MobileBERTWithLoss(onnxblock.TrainingModel):\n",
    "    def __init__(self):\n",
    "        super().__init__()\n",
    "        self.loss = onnxblock.loss.CrossEntropyLoss()\n",
    "\n",
    "    def build(self, loss_node_input_name):\n",
    "        return self.loss(loss_node_input_name)"
   ]
  },
  {
   "cell_type": "code",
   "execution_count": 33,
   "metadata": {},
   "outputs": [
    {
     "name": "stderr",
     "output_type": "stream",
     "text": [
      "2023-03-15 21:30:56.704342473 [I:onnxruntime:Default, graph.cc:3493 CleanUnusedInitializersAndNodeArgs] Removing initializer '/embeddings/Slice_1_output_0'. It is no longer used by any node.\n",
      "2023-03-15 21:30:56.704386371 [I:onnxruntime:Default, graph.cc:3493 CleanUnusedInitializersAndNodeArgs] Removing initializer '/embeddings/ConstantOfShape_output_0'. It is no longer used by any node.\n",
      "2023-03-15 21:30:56.704392871 [I:onnxruntime:Default, graph.cc:3493 CleanUnusedInitializersAndNodeArgs] Removing initializer '/embeddings/Concat_1_output_0'. It is no longer used by any node.\n",
      "2023-03-15 21:30:56.704405170 [I:onnxruntime:Default, graph.cc:3493 CleanUnusedInitializersAndNodeArgs] Removing initializer '/embeddings/ConstantOfShape_1_output_0'. It is no longer used by any node.\n",
      "2023-03-15 21:30:56.704425669 [I:onnxruntime:Default, graph.cc:3493 CleanUnusedInitializersAndNodeArgs] Removing initializer '/embeddings/Transpose_1_output_0'. It is no longer used by any node.\n",
      "2023-03-15 21:30:56.704439169 [I:onnxruntime:Default, graph.cc:3493 CleanUnusedInitializersAndNodeArgs] Removing initializer '/embeddings/Reshape_1_output_0'. It is no longer used by any node.\n",
      "2023-03-15 21:30:56.704451668 [I:onnxruntime:Default, graph.cc:3493 CleanUnusedInitializersAndNodeArgs] Removing initializer '/embeddings/Constant_24_output_0'. It is no longer used by any node.\n",
      "2023-03-15 21:30:56.704456068 [I:onnxruntime:Default, graph.cc:3493 CleanUnusedInitializersAndNodeArgs] Removing initializer '/embeddings/Constant_22_output_0'. It is no longer used by any node.\n",
      "2023-03-15 21:30:56.704459968 [I:onnxruntime:Default, graph.cc:3493 CleanUnusedInitializersAndNodeArgs] Removing initializer '/embeddings/Constant_21_output_0'. It is no longer used by any node.\n",
      "2023-03-15 21:30:56.704463767 [I:onnxruntime:Default, graph.cc:3493 CleanUnusedInitializersAndNodeArgs] Removing initializer '/embeddings/Constant_19_output_0'. It is no longer used by any node.\n",
      "2023-03-15 21:30:56.704467667 [I:onnxruntime:Default, graph.cc:3493 CleanUnusedInitializersAndNodeArgs] Removing initializer '/embeddings/Constant_18_output_0'. It is no longer used by any node.\n",
      "2023-03-15 21:30:56.704471367 [I:onnxruntime:Default, graph.cc:3493 CleanUnusedInitializersAndNodeArgs] Removing initializer '/embeddings/Constant_17_output_0'. It is no longer used by any node.\n",
      "2023-03-15 21:30:56.704475867 [I:onnxruntime:Default, graph.cc:3493 CleanUnusedInitializersAndNodeArgs] Removing initializer '/embeddings/Constant_11_output_0'. It is no longer used by any node.\n",
      "2023-03-15 21:30:56.704479567 [I:onnxruntime:Default, graph.cc:3493 CleanUnusedInitializersAndNodeArgs] Removing initializer '/embeddings/Constant_10_output_0'. It is no longer used by any node.\n",
      "2023-03-15 21:30:56.704483367 [I:onnxruntime:Default, graph.cc:3493 CleanUnusedInitializersAndNodeArgs] Removing initializer '/embeddings/Constant_8_output_0'. It is no longer used by any node.\n",
      "2023-03-15 21:30:56.704487566 [I:onnxruntime:Default, graph.cc:3493 CleanUnusedInitializersAndNodeArgs] Removing initializer '/embeddings/Constant_6_output_0'. It is no longer used by any node.\n",
      "2023-03-15 21:30:56.704503966 [I:onnxruntime:Default, graph.cc:3493 CleanUnusedInitializersAndNodeArgs] Removing initializer '/embeddings/Concat_output_0'. It is no longer used by any node.\n",
      "2023-03-15 21:30:56.704508466 [I:onnxruntime:Default, graph.cc:3493 CleanUnusedInitializersAndNodeArgs] Removing initializer '/embeddings/Constant_23_output_0'. It is no longer used by any node.\n",
      "2023-03-15 21:30:56.704513665 [I:onnxruntime:Default, graph.cc:3493 CleanUnusedInitializersAndNodeArgs] Removing initializer '/embeddings/Constant_9_output_0'. It is no longer used by any node.\n",
      "2023-03-15 21:30:56.704524665 [I:onnxruntime:Default, graph.cc:3493 CleanUnusedInitializersAndNodeArgs] Removing initializer '/embeddings/Constant_5_output_0'. It is no longer used by any node.\n",
      "2023-03-15 21:30:56.704528865 [I:onnxruntime:Default, graph.cc:3493 CleanUnusedInitializersAndNodeArgs] Removing initializer '/embeddings/Constant_20_output_0'. It is no longer used by any node.\n",
      "2023-03-15 21:30:56.704542164 [I:onnxruntime:Default, graph.cc:3493 CleanUnusedInitializersAndNodeArgs] Removing initializer '/embeddings/Slice_3_output_0'. It is no longer used by any node.\n",
      "2023-03-15 21:30:56.704574163 [I:onnxruntime:Default, graph.cc:3493 CleanUnusedInitializersAndNodeArgs] Removing initializer '/embeddings/Constant_7_output_0'. It is no longer used by any node.\n",
      "2023-03-15 21:30:56.704588462 [I:onnxruntime:Default, graph.cc:3493 CleanUnusedInitializersAndNodeArgs] Removing initializer '/embeddings/Reshape_3_output_0'. It is no longer used by any node.\n",
      "2023-03-15 21:30:56.704595962 [I:onnxruntime:Default, graph.cc:3493 CleanUnusedInitializersAndNodeArgs] Removing initializer '/embeddings/Reshape_2_output_0'. It is no longer used by any node.\n",
      "2023-03-15 21:30:56.704600762 [I:onnxruntime:Default, graph.cc:3493 CleanUnusedInitializersAndNodeArgs] Removing initializer '/embeddings/Reshape_output_0'. It is no longer used by any node.\n",
      "2023-03-15 21:30:56.704613461 [I:onnxruntime:Default, graph.cc:3493 CleanUnusedInitializersAndNodeArgs] Removing initializer '/embeddings/Constant_4_output_0'. It is no longer used by any node.\n",
      "2023-03-15 21:30:56.704619461 [I:onnxruntime:Default, graph.cc:3493 CleanUnusedInitializersAndNodeArgs] Removing initializer '/embeddings/Transpose_output_0'. It is no longer used by any node.\n",
      "2023-03-15 21:30:56.705859208 [I:onnxruntime:Default, reshape_fusion.cc:53 ApplyImpl] Total fused reshape node count: 0\n",
      "2023-03-15 21:30:56.706492081 [I:onnxruntime:Default, concat_slice_elimination.cc:36 ApplyImpl] Total fused concat node count: 0\n",
      "2023-03-15 21:30:56.722376500 [I:onnxruntime:Default, propagate_cast_ops.cc:1463 ApplyImpl] Propagate Cast operations summary:\n",
      "2023-03-15 21:30:56.722391100 [I:onnxruntime:Default, propagate_cast_ops.cc:1464 ApplyImpl] Number of passes = 2\n",
      "2023-03-15 21:30:56.722395599 [I:onnxruntime:Default, propagate_cast_ops.cc:1465 ApplyImpl] Nodes Inserted:\n",
      "2023-03-15 21:30:56.722399899 [I:onnxruntime:Default, propagate_cast_ops.cc:1468 ApplyImpl] Nodes Removed:\n",
      "2023-03-15 21:30:56.722403999 [I:onnxruntime:Default, propagate_cast_ops.cc:1469 operator()] /Cast\n",
      "2023-03-15 21:30:56.722407799 [I:onnxruntime:Default, propagate_cast_ops.cc:1471 ApplyImpl] Nodes Converted to FP16:\n",
      "2023-03-15 21:30:56.734982160 [I:onnxruntime:Default, reshape_fusion.cc:53 ApplyImpl] Total fused reshape node count: 0\n",
      "2023-03-15 21:30:56.735603434 [I:onnxruntime:Default, concat_slice_elimination.cc:36 ApplyImpl] Total fused concat node count: 0\n"
     ]
    }
   ],
   "source": [
    "# Load the model from the exported inference ONNX file.\n",
    "onnx_model = onnx.load(f\"training_artifacts/{model_name}.onnx\")\n",
    "eval_model = None\n",
    "optimizer_model = None\n",
    "\n",
    "training_block = MobileBERTWithLoss()\n",
    "\n",
    "inference_model_output_name = \"output\"\n",
    "with onnxblock.onnx_model(onnx_model) as model_accessor:\n",
    "    loss_output_name = training_block(inference_model_output_name)\n",
    "    eval_model = model_accessor.eval_model\n",
    "\n",
    "optimizer_block = onnxblock.optim.AdamW()\n",
    "with onnxblock.onnx_model() as model_accessor:\n",
    "    optimizer_outputs = optimizer_block(training_block.parameters())\n",
    "    optimizer_model = model_accessor.model"
   ]
  },
  {
   "cell_type": "code",
   "execution_count": null,
   "metadata": {},
   "outputs": [],
   "source": [
    "\n",
    "onnxblock.save_checkpoint(training_block.parameters(), f\"training_artifacts/{model_name}.ckpt\")\n",
    "onnx.save(onnx_model, f\"training_artifacts/{model_name}_training.onnx\")\n",
    "onnx.save(eval_model, f\"training_artifacts/{model_name}_eval.onnx\")\n",
    "onnx.save(optimizer_model, f\"training_artifacts/{model_name}_optimizer.onnx\")"
   ]
  }
 ],
 "metadata": {
  "kernelspec": {
   "display_name": "Python 3",
   "language": "python",
   "name": "python3"
  },
  "language_info": {
   "codemirror_mode": {
    "name": "ipython",
    "version": 3
   },
   "file_extension": ".py",
   "mimetype": "text/x-python",
   "name": "python",
   "nbconvert_exporter": "python",
   "pygments_lexer": "ipython3",
   "version": "3.9.16"
  },
  "orig_nbformat": 4
 },
 "nbformat": 4,
 "nbformat_minor": 2
}

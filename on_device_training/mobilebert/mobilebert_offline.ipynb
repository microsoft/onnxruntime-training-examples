{
 "cells": [
  {
   "attachments": {},
   "cell_type": "markdown",
   "metadata": {},
   "source": [
    "## library imports"
   ]
  },
  {
   "cell_type": "code",
   "execution_count": 35,
   "metadata": {},
   "outputs": [],
   "source": [
    "import torch\n",
    "import transformers\n",
    "import onnx\n",
    "import onnxruntime.training.onnxblock as onnxblock"
   ]
  },
  {
   "attachments": {},
   "cell_type": "markdown",
   "metadata": {},
   "source": [
    "## generating artifacts"
   ]
  },
  {
   "cell_type": "code",
   "execution_count": 36,
   "metadata": {},
   "outputs": [
    {
     "name": "stderr",
     "output_type": "stream",
     "text": [
      "Some weights of the model checkpoint at google/mobilebert-uncased were not used when initializing MobileBertModel: ['cls.predictions.transform.dense.weight', 'cls.predictions.decoder.bias', 'cls.seq_relationship.bias', 'cls.predictions.decoder.weight', 'cls.predictions.bias', 'cls.predictions.transform.dense.bias', 'cls.predictions.dense.weight', 'cls.seq_relationship.weight', 'cls.predictions.transform.LayerNorm.weight', 'cls.predictions.transform.LayerNorm.bias']\n",
      "- This IS expected if you are initializing MobileBertModel from the checkpoint of a model trained on another task or with another architecture (e.g. initializing a BertForSequenceClassification model from a BertForPreTraining model).\n",
      "- This IS NOT expected if you are initializing MobileBertModel from the checkpoint of a model that you expect to be exactly identical (initializing a BertForSequenceClassification model from a BertForSequenceClassification model).\n"
     ]
    }
   ],
   "source": [
    "model = transformers.AutoModel.from_pretrained('google/mobilebert-uncased')\n",
    "model_name = 'mobilebert-uncased'"
   ]
  },
  {
   "cell_type": "code",
   "execution_count": 37,
   "metadata": {},
   "outputs": [],
   "source": [
    "# ... painstakingly create the random input\n",
    "\n",
    "# expects\n",
    "# input_ids = torch.LongTensor of shape (batch size, seq len)\n",
    "# attention_mask = torch.FloatTensor of shape (batch size, seq len)\n",
    "# token_type_ids = torch.LongTensor of shape (bs, seq len)\n",
    "\n",
    "batch_size = 2\n",
    "seq_len = 25\n",
    "vocab = 20000\n",
    "input_ids = torch.randint(vocab, (batch_size, seq_len))\n",
    "attention_mask = torch.ones((batch_size, seq_len), dtype=torch.float)\n",
    "token_type_ids = torch.ones((batch_size, seq_len), dtype=torch.long)\n"
   ]
  },
  {
   "cell_type": "code",
   "execution_count": 40,
   "metadata": {},
   "outputs": [],
   "source": [
    "torch.onnx.export(model, (input_ids, attention_mask, token_type_ids),\n",
    "                  f\"training_artifacts/{model_name}.onnx\", \n",
    "                  input_names=[\"input_ids\", \"attention_mask\", \"token_type_ids\"],\n",
    "                  output_names=[\"output\"])"
   ]
  },
  {
   "cell_type": "code",
   "execution_count": 42,
   "metadata": {},
   "outputs": [
    {
     "name": "stderr",
     "output_type": "stream",
     "text": [
      "2023-03-16 00:02:58.228826786 [I:onnxruntime:Default, graph.cc:3493 CleanUnusedInitializersAndNodeArgs] Removing initializer '/embeddings/Slice_1_output_0'. It is no longer used by any node.\n",
      "2023-03-16 00:02:58.228864285 [I:onnxruntime:Default, graph.cc:3493 CleanUnusedInitializersAndNodeArgs] Removing initializer '/embeddings/ConstantOfShape_output_0'. It is no longer used by any node.\n",
      "2023-03-16 00:02:58.228949181 [I:onnxruntime:Default, graph.cc:3493 CleanUnusedInitializersAndNodeArgs] Removing initializer '/embeddings/Concat_1_output_0'. It is no longer used by any node.\n",
      "2023-03-16 00:02:58.228955281 [I:onnxruntime:Default, graph.cc:3493 CleanUnusedInitializersAndNodeArgs] Removing initializer '/embeddings/ConstantOfShape_1_output_0'. It is no longer used by any node.\n",
      "2023-03-16 00:02:58.228967580 [I:onnxruntime:Default, graph.cc:3493 CleanUnusedInitializersAndNodeArgs] Removing initializer '/embeddings/Transpose_1_output_0'. It is no longer used by any node.\n",
      "2023-03-16 00:02:58.228974880 [I:onnxruntime:Default, graph.cc:3493 CleanUnusedInitializersAndNodeArgs] Removing initializer '/embeddings/Reshape_1_output_0'. It is no longer used by any node.\n",
      "2023-03-16 00:02:58.228982679 [I:onnxruntime:Default, graph.cc:3493 CleanUnusedInitializersAndNodeArgs] Removing initializer '/embeddings/Constant_24_output_0'. It is no longer used by any node.\n",
      "2023-03-16 00:02:58.228986779 [I:onnxruntime:Default, graph.cc:3493 CleanUnusedInitializersAndNodeArgs] Removing initializer '/embeddings/Constant_22_output_0'. It is no longer used by any node.\n",
      "2023-03-16 00:02:58.228990779 [I:onnxruntime:Default, graph.cc:3493 CleanUnusedInitializersAndNodeArgs] Removing initializer '/embeddings/Constant_21_output_0'. It is no longer used by any node.\n",
      "2023-03-16 00:02:58.228994779 [I:onnxruntime:Default, graph.cc:3493 CleanUnusedInitializersAndNodeArgs] Removing initializer '/embeddings/Constant_19_output_0'. It is no longer used by any node.\n",
      "2023-03-16 00:02:58.228999079 [I:onnxruntime:Default, graph.cc:3493 CleanUnusedInitializersAndNodeArgs] Removing initializer '/embeddings/Constant_18_output_0'. It is no longer used by any node.\n",
      "2023-03-16 00:02:58.229002879 [I:onnxruntime:Default, graph.cc:3493 CleanUnusedInitializersAndNodeArgs] Removing initializer '/embeddings/Constant_17_output_0'. It is no longer used by any node.\n",
      "2023-03-16 00:02:58.229008078 [I:onnxruntime:Default, graph.cc:3493 CleanUnusedInitializersAndNodeArgs] Removing initializer '/embeddings/Constant_11_output_0'. It is no longer used by any node.\n",
      "2023-03-16 00:02:58.229012178 [I:onnxruntime:Default, graph.cc:3493 CleanUnusedInitializersAndNodeArgs] Removing initializer '/embeddings/Constant_10_output_0'. It is no longer used by any node.\n",
      "2023-03-16 00:02:58.229016278 [I:onnxruntime:Default, graph.cc:3493 CleanUnusedInitializersAndNodeArgs] Removing initializer '/embeddings/Constant_8_output_0'. It is no longer used by any node.\n",
      "2023-03-16 00:02:58.229021278 [I:onnxruntime:Default, graph.cc:3493 CleanUnusedInitializersAndNodeArgs] Removing initializer '/embeddings/Constant_6_output_0'. It is no longer used by any node.\n",
      "2023-03-16 00:02:58.229031577 [I:onnxruntime:Default, graph.cc:3493 CleanUnusedInitializersAndNodeArgs] Removing initializer '/embeddings/Concat_output_0'. It is no longer used by any node.\n",
      "2023-03-16 00:02:58.229036077 [I:onnxruntime:Default, graph.cc:3493 CleanUnusedInitializersAndNodeArgs] Removing initializer '/embeddings/Constant_23_output_0'. It is no longer used by any node.\n",
      "2023-03-16 00:02:58.229041777 [I:onnxruntime:Default, graph.cc:3493 CleanUnusedInitializersAndNodeArgs] Removing initializer '/embeddings/Constant_9_output_0'. It is no longer used by any node.\n",
      "2023-03-16 00:02:58.229051377 [I:onnxruntime:Default, graph.cc:3493 CleanUnusedInitializersAndNodeArgs] Removing initializer '/embeddings/Constant_5_output_0'. It is no longer used by any node.\n",
      "2023-03-16 00:02:58.229055576 [I:onnxruntime:Default, graph.cc:3493 CleanUnusedInitializersAndNodeArgs] Removing initializer '/embeddings/Constant_20_output_0'. It is no longer used by any node.\n",
      "2023-03-16 00:02:58.229062876 [I:onnxruntime:Default, graph.cc:3493 CleanUnusedInitializersAndNodeArgs] Removing initializer '/embeddings/Slice_3_output_0'. It is no longer used by any node.\n",
      "2023-03-16 00:02:58.229084675 [I:onnxruntime:Default, graph.cc:3493 CleanUnusedInitializersAndNodeArgs] Removing initializer '/embeddings/Constant_7_output_0'. It is no longer used by any node.\n",
      "2023-03-16 00:02:58.229100074 [I:onnxruntime:Default, graph.cc:3493 CleanUnusedInitializersAndNodeArgs] Removing initializer '/embeddings/Reshape_3_output_0'. It is no longer used by any node.\n",
      "2023-03-16 00:02:58.229105574 [I:onnxruntime:Default, graph.cc:3493 CleanUnusedInitializersAndNodeArgs] Removing initializer '/embeddings/Reshape_2_output_0'. It is no longer used by any node.\n",
      "2023-03-16 00:02:58.229110074 [I:onnxruntime:Default, graph.cc:3493 CleanUnusedInitializersAndNodeArgs] Removing initializer '/embeddings/Reshape_output_0'. It is no longer used by any node.\n",
      "2023-03-16 00:02:58.229123273 [I:onnxruntime:Default, graph.cc:3493 CleanUnusedInitializersAndNodeArgs] Removing initializer '/embeddings/Constant_4_output_0'. It is no longer used by any node.\n",
      "2023-03-16 00:02:58.229129673 [I:onnxruntime:Default, graph.cc:3493 CleanUnusedInitializersAndNodeArgs] Removing initializer '/embeddings/Transpose_output_0'. It is no longer used by any node.\n",
      "2023-03-16 00:02:58.230327822 [I:onnxruntime:Default, reshape_fusion.cc:53 ApplyImpl] Total fused reshape node count: 0\n",
      "2023-03-16 00:02:58.231146087 [I:onnxruntime:Default, concat_slice_elimination.cc:36 ApplyImpl] Total fused concat node count: 0\n",
      "2023-03-16 00:02:58.248491643 [I:onnxruntime:Default, propagate_cast_ops.cc:1463 ApplyImpl] Propagate Cast operations summary:\n",
      "2023-03-16 00:02:58.248506243 [I:onnxruntime:Default, propagate_cast_ops.cc:1464 ApplyImpl] Number of passes = 2\n",
      "2023-03-16 00:02:58.248510843 [I:onnxruntime:Default, propagate_cast_ops.cc:1465 ApplyImpl] Nodes Inserted:\n",
      "2023-03-16 00:02:58.248515142 [I:onnxruntime:Default, propagate_cast_ops.cc:1468 ApplyImpl] Nodes Removed:\n",
      "2023-03-16 00:02:58.248519042 [I:onnxruntime:Default, propagate_cast_ops.cc:1469 operator()] /Cast\n",
      "2023-03-16 00:02:58.248522842 [I:onnxruntime:Default, propagate_cast_ops.cc:1471 ApplyImpl] Nodes Converted to FP16:\n",
      "2023-03-16 00:02:58.263064719 [I:onnxruntime:Default, reshape_fusion.cc:53 ApplyImpl] Total fused reshape node count: 0\n",
      "2023-03-16 00:02:58.263819086 [I:onnxruntime:Default, concat_slice_elimination.cc:36 ApplyImpl] Total fused concat node count: 0\n"
     ]
    }
   ],
   "source": [
    "class MobileBERTWithLoss(onnxblock.TrainingModel):\n",
    "    def __init__(self):\n",
    "        super().__init__()\n",
    "        self.loss = onnxblock.loss.CrossEntropyLoss()\n",
    "\n",
    "    def build(self, loss_node_input_name):\n",
    "        return self.loss(loss_node_input_name)\n",
    "\n",
    "\n",
    "# Load the model from the exported inference ONNX file.\n",
    "onnx_model = onnx.load(f\"training_artifacts/{model_name}.onnx\")\n",
    "eval_model = None\n",
    "optimizer_model = None\n",
    "\n",
    "training_block = MobileBERTWithLoss()\n",
    "\n",
    "inference_model_output_name = \"output\"\n",
    "with onnxblock.onnx_model(onnx_model) as model_accessor:\n",
    "    loss_output_name = training_block(inference_model_output_name)\n",
    "    eval_model = model_accessor.eval_model\n",
    "\n",
    "optimizer_block = onnxblock.optim.AdamW()\n",
    "with onnxblock.onnx_model() as model_accessor:\n",
    "    optimizer_outputs = optimizer_block(training_block.parameters())\n",
    "    optimizer_model = model_accessor.model"
   ]
  },
  {
   "cell_type": "code",
   "execution_count": 43,
   "metadata": {},
   "outputs": [],
   "source": [
    "\n",
    "onnxblock.save_checkpoint(training_block.parameters(), f\"training_artifacts/{model_name}.ckpt\")\n",
    "onnx.save(onnx_model, f\"training_artifacts/{model_name}_training.onnx\")\n",
    "onnx.save(eval_model, f\"training_artifacts/{model_name}_eval.onnx\")\n",
    "onnx.save(optimizer_model, f\"training_artifacts/{model_name}_optimizer.onnx\")"
   ]
  }
 ],
 "metadata": {
  "kernelspec": {
   "display_name": "Python 3",
   "language": "python",
   "name": "python3"
  },
  "language_info": {
   "codemirror_mode": {
    "name": "ipython",
    "version": 3
   },
   "file_extension": ".py",
   "mimetype": "text/x-python",
   "name": "python",
   "nbconvert_exporter": "python",
   "pygments_lexer": "ipython3",
   "version": "3.9.16"
  },
  "orig_nbformat": 4
 },
 "nbformat": 4,
 "nbformat_minor": 2
}

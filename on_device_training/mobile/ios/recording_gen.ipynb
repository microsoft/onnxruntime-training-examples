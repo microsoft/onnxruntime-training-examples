{
 "cells": [
  {
   "cell_type": "code",
   "execution_count": 1,
   "metadata": {},
   "outputs": [
    {
     "name": "stderr",
     "output_type": "stream",
     "text": [
      "/usr/local/lib/python3.11/site-packages/tqdm/auto.py:21: TqdmWarning: IProgress not found. Please update jupyter and ipywidgets. See https://ipywidgets.readthedocs.io/en/stable/user_install.html\n",
      "  from .autonotebook import tqdm as notebook_tqdm\n"
     ]
    }
   ],
   "source": [
    "from datasets import load_dataset\n",
    "\n",
    "# Load the dataset \n",
    "num_examples = 20\n",
    "dataset = load_dataset(\"librispeech_asr\", \"clean\", split=\"test\", streaming=True).take(num_examples)"
   ]
  },
  {
   "cell_type": "code",
   "execution_count": 2,
   "metadata": {},
   "outputs": [],
   "source": [
    "\n",
    "import numpy as np\n",
    "\n",
    "# process the audio data from the dataset so that it is the same length (10 seconds)\n",
    "max_len = 160000\n",
    "def preprocess(audio_array):\n",
    "    # trim the audio to 320000 samples if it is longer than that\n",
    "    if len(audio_array) > max_len:\n",
    "        return audio_array[:max_len].astype(np.float32)\n",
    "\n",
    "    else:\n",
    "        # pad the shorter arrays with zeros to match the length of the longest array\n",
    "        pad_len = max_len - len(audio_array)\n",
    "        return np.pad(audio_array, (0, pad_len), mode='constant').astype(np.float32)\n",
    "\n",
    "\n",
    "audio_data = [preprocess(example[\"audio\"][\"array\"]) for example in dataset]\n"
   ]
  },
  {
   "cell_type": "code",
   "execution_count": 5,
   "metadata": {},
   "outputs": [],
   "source": [
    "import os\n",
    "from scipy.io import wavfile\n",
    "\n",
    "def export_to_wav_folder(audio_list, output_folder):\n",
    "    # Check if the output folder exists, if not, create it\n",
    "    if not os.path.exists(output_folder):\n",
    "        os.makedirs(output_folder)\n",
    "\n",
    "    for i, audio_data in enumerate(audio_list):\n",
    "        # Normalize the audio data to the appropriate range for 16-bit WAV files (-32768 to 32767)\n",
    "        normalized_audio = np.int16(audio_data / np.max(np.abs(audio_data)) * 32767)\n",
    "        output_path = os.path.join(output_folder, f\"other_{i}.wav\")\n",
    "\n",
    "        # Write the WAV file\n",
    "        wavfile.write(output_path, 16000, normalized_audio) \n",
    "\n",
    "export_to_wav_folder(audio_data, \"./MyVoice/recordings\")"
   ]
  }
 ],
 "metadata": {
  "kernelspec": {
   "display_name": "Python 3",
   "language": "python",
   "name": "python3"
  },
  "language_info": {
   "codemirror_mode": {
    "name": "ipython",
    "version": 3
   },
   "file_extension": ".py",
   "mimetype": "text/x-python",
   "name": "python",
   "nbconvert_exporter": "python",
   "pygments_lexer": "ipython3",
   "version": "3.11.4"
  },
  "orig_nbformat": 4
 },
 "nbformat": 4,
 "nbformat_minor": 2
}

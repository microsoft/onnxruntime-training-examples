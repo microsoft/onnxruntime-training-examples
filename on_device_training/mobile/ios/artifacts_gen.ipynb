{
 "cells": [
  {
   "cell_type": "code",
   "execution_count": null,
   "metadata": {},
   "outputs": [],
   "source": [
    "from transformers import Wav2Vec2ForSequenceClassification, Wav2Vec2FeatureExtractor, AutoConfig\n",
    "import torch\n",
    "\n",
    "# load config from the pretrained model\n",
    "config = AutoConfig.from_pretrained(\"superb/wav2vec2-base-superb-sid\")\n",
    "model = Wav2Vec2ForSequenceClassification.from_pretrained(\"superb/wav2vec2-base-superb-sid\")"
   ]
  },
  {
   "cell_type": "code",
   "execution_count": null,
   "metadata": {},
   "outputs": [],
   "source": [
    "# modifier last layer to output 2 classes\n",
    "model.classifier = torch.nn.Linear(256, 2)\n"
   ]
  },
  {
   "cell_type": "code",
   "execution_count": null,
   "metadata": {},
   "outputs": [],
   "source": [
    "#export model to ONNX\n",
    "dummy_input = torch.randn(1, 160000, requires_grad=True)\n",
    "torch.onnx.export(model, dummy_input, \"wav2vec.onnx\",input_names=[\"input\"], output_names=[\"output\"],\n",
    "                  dynamic_axes={\"input\": {0: \"batch\"}, \"output\": {0: \"batch\"}})"
   ]
  },
  {
   "cell_type": "code",
   "execution_count": null,
   "metadata": {},
   "outputs": [],
   "source": [
    "import onnx\n",
    "import onnxruntime.training.onnxblock as onnxblock\n",
    "from onnxruntime.training import artifacts\n",
    "\n",
    "onnx_model = onnx.load(\"wav2vec.onnx\")\n",
    "\n",
    "requires_grad = [\"classifier.weight\", \"classifier.bias\"]\n",
    "frozen_params = [\n",
    "   param.name\n",
    "   for param in onnx_model.graph.initializer\n",
    "   if param.name not in requires_grad\n",
    "]\n",
    "\n",
    "# define custom loss function\n",
    "class CustomCELoss(onnxblock.Block):\n",
    "    def __init__(self):\n",
    "        super().__init__()\n",
    "        self.celoss = onnxblock.loss.CrossEntropyLoss()\n",
    "\n",
    "    def build(self, logits, *args):\n",
    "        return self.celoss(logits)\n",
    "\n",
    "\n",
    "# Generate the training artifacts\n",
    "artifacts.generate_artifacts(\n",
    "    onnx_model,\n",
    "    requires_grad=requires_grad,\n",
    "    frozen_params=frozen_params,\n",
    "    loss=CustomCELoss(),\n",
    "    optimizer=artifacts.OptimType.AdamW,\n",
    "    artifacts_dir=\"artifacts\",\n",
    ")"
   ]
  }
 ],
 "metadata": {
  "kernelspec": {
   "display_name": "Python 3",
   "language": "python",
   "name": "python3"
  },
  "language_info": {
   "codemirror_mode": {
    "name": "ipython",
    "version": 3
   },
   "file_extension": ".py",
   "mimetype": "text/x-python",
   "name": "python",
   "nbconvert_exporter": "python",
   "pygments_lexer": "ipython3",
   "version": "3.11.4"
  },
  "orig_nbformat": 4
 },
 "nbformat": 4,
 "nbformat_minor": 2
}

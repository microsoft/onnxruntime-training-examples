{
  "cells": [
    {
      "attachments": {},
      "cell_type": "markdown",
      "metadata": {},
      "source": [
        "## Fine Tuning T5 model with Azure ML using Azure Container for PyTorch \n",
        "\n",
        "This tutorial shows how to fine tune the T5 model to generate a summary of a news article. We then deploy it to an online endpoint for real time inference. The model is trained on a tiny sample of the dataset with a small number of epochs to illustrate the fine tuning approach.\n",
        "\n",
        "### Learning Objectives\n",
        "- Fine tune the T5 small model for the `Summarization` task with `Azure ML` \n",
        "- Leverage the `ACPT` environment with state of art accelerators\n",
        "- Increase training efficiency using [`DeepSpeed`](https://github.com/microsoft/DeepSpeed) and [`ONNX Runtime`](https://github.com/microsoft/onnxruntime)\n",
        "- Model Evaluation uring prebuilt component\n",
        "- Register the model with AzureML\n",
        "- Deploy and inference using MIR and ONNX Runtime\n"
      ]
    },
    {
      "attachments": {},
      "cell_type": "markdown",
      "metadata": {
        "nteract": {
          "transient": {
            "deleting": false
          }
        }
      },
      "source": [
        "###### T5-small is a 60 million parameter model based on text-to-text framework and is used for several NLP tasks, including machine translation, document summarization, question answering pretrained on Colossal Clean Crawled Corpus (C4) dataset.\n",
        "\n",
        "translation (green), linguistic acceptability (red), sentence similarity (yellow), and document summarization (blue)\n",
        "\n",
        "##### In this workshop, we will be fine tuning the document summarization task.\n",
        "\n",
        "\n",
        "![Image](assets/t5modelcard.PNG)"
      ]
    },
    {
      "attachments": {},
      "cell_type": "markdown",
      "metadata": {},
      "source": [
        "#### 1. Prerequisites to install Azure ML Python SDK Version 2 \n",
        "Please restart kernel after pip installs to sync environment with new modules."
      ]
    },
    {
      "cell_type": "code",
      "execution_count": 42,
      "metadata": {},
      "outputs": [
        {
          "name": "stdout",
          "output_type": "stream",
          "text": [
            "huggingface/tokenizers: The current process just got forked, after parallelism has already been used. Disabling parallelism to avoid deadlocks...\n",
            "To disable this warning, you can either:\n",
            "\t- Avoid using `tokenizers` before the fork if possible\n",
            "\t- Explicitly set the environment variable TOKENIZERS_PARALLELISM=(true | false)\n"
          ]
        },
        {
          "name": "stdout",
          "output_type": "stream",
          "text": [
            "Requirement already satisfied: azure-ai-ml in /home/prathikrao/.local/lib/python3.8/site-packages (1.0.0)\n",
            "Requirement already satisfied: azure-identity in /home/prathikrao/.local/lib/python3.8/site-packages (1.13.0)\n",
            "Requirement already satisfied: datasets in /home/prathikrao/.local/lib/python3.8/site-packages (2.13.1)\n",
            "Requirement already satisfied: azure-cli in /home/prathikrao/.local/lib/python3.8/site-packages (2.49.0)\n",
            "Requirement already satisfied: azure-mgmt-core<2.0.0,>=1.3.0 in /home/prathikrao/.local/lib/python3.8/site-packages (from azure-ai-ml) (1.4.0)\n",
            "Requirement already satisfied: pyjwt<3.0.0 in /usr/lib/python3/dist-packages (from azure-ai-ml) (1.7.1)\n",
            "Requirement already satisfied: isodate in /home/prathikrao/.local/lib/python3.8/site-packages (from azure-ai-ml) (0.6.1)\n",
            "Requirement already satisfied: strictyaml<=1.6.1 in /home/prathikrao/.local/lib/python3.8/site-packages (from azure-ai-ml) (1.6.1)\n",
            "Requirement already satisfied: msrest>=0.6.18 in /home/prathikrao/.local/lib/python3.8/site-packages (from azure-ai-ml) (0.7.1)\n",
            "Requirement already satisfied: azure-storage-file-share<13.0.0 in /home/prathikrao/.local/lib/python3.8/site-packages (from azure-ai-ml) (12.12.0)\n",
            "Requirement already satisfied: azure-storage-blob<13.0.0,>=12.10.0 in /home/prathikrao/.local/lib/python3.8/site-packages (from azure-ai-ml) (12.16.0)\n",
            "Requirement already satisfied: pyyaml<7.0.0,>=5.1.0 in /usr/lib/python3/dist-packages (from azure-ai-ml) (5.3.1)\n",
            "Requirement already satisfied: tqdm<=4.63.0 in /home/prathikrao/.local/lib/python3.8/site-packages (from azure-ai-ml) (4.63.0)\n",
            "Requirement already satisfied: pydash<6.0.0 in /home/prathikrao/.local/lib/python3.8/site-packages (from azure-ai-ml) (5.1.2)\n",
            "Requirement already satisfied: typing-extensions<5.0.0 in /home/prathikrao/.local/lib/python3.8/site-packages (from azure-ai-ml) (4.6.3)\n",
            "Requirement already satisfied: azure-common<2.0.0,>=1.1 in /home/prathikrao/.local/lib/python3.8/site-packages (from azure-ai-ml) (1.1.28)\n",
            "Requirement already satisfied: marshmallow<4.0.0,>=3.5 in /home/prathikrao/.local/lib/python3.8/site-packages (from azure-ai-ml) (3.19.0)\n",
            "Requirement already satisfied: azure-core!=1.22.0,<2.0.0,>=1.8.0 in /home/prathikrao/.local/lib/python3.8/site-packages (from azure-ai-ml) (1.27.1)\n",
            "Requirement already satisfied: azure-storage-file-datalake<13.0.0 in /home/prathikrao/.local/lib/python3.8/site-packages (from azure-ai-ml) (12.11.0)\n",
            "Requirement already satisfied: colorama<=0.4.4 in /usr/lib/python3/dist-packages (from azure-ai-ml) (0.4.3)\n",
            "Requirement already satisfied: jsonschema<5.0.0,>=4.0.0 in /home/prathikrao/.local/lib/python3.8/site-packages (from azure-ai-ml) (4.17.3)\n",
            "Requirement already satisfied: msal<2.0.0,>=1.20.0 in /home/prathikrao/.local/lib/python3.8/site-packages (from azure-identity) (1.22.0)\n",
            "Requirement already satisfied: msal-extensions<2.0.0,>=0.3.0 in /home/prathikrao/.local/lib/python3.8/site-packages (from azure-identity) (1.0.0)\n",
            "Requirement already satisfied: six>=1.12.0 in /usr/lib/python3/dist-packages (from azure-identity) (1.14.0)\n",
            "Requirement already satisfied: cryptography>=2.5 in /usr/lib/python3/dist-packages (from azure-identity) (2.8)\n",
            "Requirement already satisfied: dill<0.3.7,>=0.3.0 in /home/prathikrao/.local/lib/python3.8/site-packages (from datasets) (0.3.6)\n",
            "Requirement already satisfied: huggingface-hub<1.0.0,>=0.11.0 in /home/prathikrao/.local/lib/python3.8/site-packages (from datasets) (0.15.1)\n",
            "Requirement already satisfied: requests>=2.19.0 in /usr/lib/python3/dist-packages (from datasets) (2.22.0)\n",
            "Requirement already satisfied: packaging in /home/prathikrao/.local/lib/python3.8/site-packages (from datasets) (23.1)\n",
            "Requirement already satisfied: pandas in /home/prathikrao/.local/lib/python3.8/site-packages (from datasets) (2.0.2)\n",
            "Requirement already satisfied: multiprocess in /home/prathikrao/.local/lib/python3.8/site-packages (from datasets) (0.70.14)\n",
            "Requirement already satisfied: aiohttp in /home/prathikrao/.local/lib/python3.8/site-packages (from datasets) (3.8.4)\n",
            "Requirement already satisfied: fsspec[http]>=2021.11.1 in /home/prathikrao/.local/lib/python3.8/site-packages (from datasets) (2023.6.0)\n",
            "Requirement already satisfied: pyarrow>=8.0.0 in /home/prathikrao/.local/lib/python3.8/site-packages (from datasets) (12.0.1)\n",
            "Requirement already satisfied: numpy>=1.17 in /home/prathikrao/.local/lib/python3.8/site-packages (from datasets) (1.24.3)\n",
            "Requirement already satisfied: xxhash in /home/prathikrao/.local/lib/python3.8/site-packages (from datasets) (3.2.0)\n",
            "Requirement already satisfied: azure-mgmt-loganalytics==13.0.0b4 in /home/prathikrao/.local/lib/python3.8/site-packages (from azure-cli) (13.0.0b4)\n",
            "Requirement already satisfied: azure-mgmt-recoveryservices~=2.2.0 in /home/prathikrao/.local/lib/python3.8/site-packages (from azure-cli) (2.2.0)\n",
            "Requirement already satisfied: azure-mgmt-cdn==12.0.0 in /home/prathikrao/.local/lib/python3.8/site-packages (from azure-cli) (12.0.0)\n",
            "Requirement already satisfied: azure-appconfiguration~=1.1.1 in /home/prathikrao/.local/lib/python3.8/site-packages (from azure-cli) (1.1.1)\n",
            "Requirement already satisfied: azure-mgmt-sql==4.0.0b10 in /home/prathikrao/.local/lib/python3.8/site-packages (from azure-cli) (4.0.0b10)\n",
            "Requirement already satisfied: azure-mgmt-cognitiveservices~=13.3.0 in /home/prathikrao/.local/lib/python3.8/site-packages (from azure-cli) (13.3.0)\n",
            "Requirement already satisfied: azure-mgmt-keyvault==10.2.0 in /home/prathikrao/.local/lib/python3.8/site-packages (from azure-cli) (10.2.0)\n",
            "Requirement already satisfied: azure-synapse-spark~=0.2.0 in /home/prathikrao/.local/lib/python3.8/site-packages (from azure-cli) (0.2.0)\n",
            "Requirement already satisfied: azure-multiapi-storage~=1.1.0 in /home/prathikrao/.local/lib/python3.8/site-packages (from azure-cli) (1.1.0)\n",
            "Requirement already satisfied: azure-mgmt-eventhub~=10.1.0 in /home/prathikrao/.local/lib/python3.8/site-packages (from azure-cli) (10.1.0)\n",
            "Requirement already satisfied: chardet~=3.0.4 in /usr/lib/python3/dist-packages (from azure-cli) (3.0.4)\n",
            "Requirement already satisfied: azure-storage-common~=1.4 in /home/prathikrao/.local/lib/python3.8/site-packages (from azure-cli) (1.4.2)\n",
            "Requirement already satisfied: azure-mgmt-resource==22.0.0 in /home/prathikrao/.local/lib/python3.8/site-packages (from azure-cli) (22.0.0)\n",
            "Requirement already satisfied: azure-mgmt-sqlvirtualmachine==1.0.0b5 in /home/prathikrao/.local/lib/python3.8/site-packages (from azure-cli) (1.0.0b5)\n",
            "Requirement already satisfied: azure-mgmt-privatedns~=1.0.0 in /home/prathikrao/.local/lib/python3.8/site-packages (from azure-cli) (1.0.0)\n",
            "Requirement already satisfied: azure-mgmt-web==7.0.0 in /home/prathikrao/.local/lib/python3.8/site-packages (from azure-cli) (7.0.0)\n",
            "Requirement already satisfied: azure-mgmt-applicationinsights~=1.0.0 in /home/prathikrao/.local/lib/python3.8/site-packages (from azure-cli) (1.0.0)\n",
            "Requirement already satisfied: azure-mgmt-media~=9.0 in /home/prathikrao/.local/lib/python3.8/site-packages (from azure-cli) (9.0.0)\n",
            "Requirement already satisfied: azure-mgmt-databoxedge~=1.0.0 in /home/prathikrao/.local/lib/python3.8/site-packages (from azure-cli) (1.0.0)\n",
            "Requirement already satisfied: azure-mgmt-search~=9.0 in /home/prathikrao/.local/lib/python3.8/site-packages (from azure-cli) (9.0.0)\n",
            "Requirement already satisfied: azure-mgmt-managedservices~=1.0 in /home/prathikrao/.local/lib/python3.8/site-packages (from azure-cli) (1.0.0)\n",
            "Requirement already satisfied: azure-mgmt-relay~=0.1.0 in /home/prathikrao/.local/lib/python3.8/site-packages (from azure-cli) (0.1.0)\n",
            "Requirement already satisfied: azure-mgmt-synapse==2.1.0b5 in /home/prathikrao/.local/lib/python3.8/site-packages (from azure-cli) (2.1.0b5)\n",
            "Requirement already satisfied: azure-keyvault-secrets==4.7.0 in /home/prathikrao/.local/lib/python3.8/site-packages (from azure-cli) (4.7.0)\n",
            "Requirement already satisfied: azure-synapse-accesscontrol~=0.5.0 in /home/prathikrao/.local/lib/python3.8/site-packages (from azure-cli) (0.5.0)\n",
            "Requirement already satisfied: azure-mgmt-devtestlabs~=4.0 in /home/prathikrao/.local/lib/python3.8/site-packages (from azure-cli) (4.0.0)\n",
            "Requirement already satisfied: distro; sys_platform == \"linux\" in /usr/lib/python3/dist-packages (from azure-cli) (1.4.0)\n",
            "Requirement already satisfied: azure-mgmt-compute~=29.1.0 in /home/prathikrao/.local/lib/python3.8/site-packages (from azure-cli) (29.1.0)\n",
            "Requirement already satisfied: antlr4-python3-runtime~=4.9.3 in /home/prathikrao/.local/lib/python3.8/site-packages (from azure-cli) (4.9.3)\n",
            "Requirement already satisfied: azure-mgmt-datalake-store~=0.5.0 in /home/prathikrao/.local/lib/python3.8/site-packages (from azure-cli) (0.5.0)\n",
            "Requirement already satisfied: azure-keyvault-certificates==4.7.0 in /home/prathikrao/.local/lib/python3.8/site-packages (from azure-cli) (4.7.0)\n",
            "Requirement already satisfied: azure-keyvault-administration==4.3.0 in /home/prathikrao/.local/lib/python3.8/site-packages (from azure-cli) (4.3.0)\n",
            "Requirement already satisfied: azure-mgmt-containerservice~=23.0.0 in /home/prathikrao/.local/lib/python3.8/site-packages (from azure-cli) (23.0.0)\n",
            "Requirement already satisfied: azure-mgmt-managementgroups~=1.0.0 in /home/prathikrao/.local/lib/python3.8/site-packages (from azure-cli) (1.0.0)\n",
            "Requirement already satisfied: azure-mgmt-redis~=14.1.0 in /home/prathikrao/.local/lib/python3.8/site-packages (from azure-cli) (14.1.0)\n",
            "Requirement already satisfied: fabric~=2.4 in /home/prathikrao/.local/lib/python3.8/site-packages (from azure-cli) (2.7.1)\n",
            "Requirement already satisfied: azure-mgmt-botservice~=2.0.0b3 in /home/prathikrao/.local/lib/python3.8/site-packages (from azure-cli) (2.0.0)\n",
            "Requirement already satisfied: azure-mgmt-policyinsights~=1.1.0b2 in /home/prathikrao/.local/lib/python3.8/site-packages (from azure-cli) (1.1.0b4)\n",
            "Requirement already satisfied: azure-mgmt-appconfiguration==3.0.0 in /home/prathikrao/.local/lib/python3.8/site-packages (from azure-cli) (3.0.0)\n",
            "Requirement already satisfied: xmltodict~=0.12 in /home/prathikrao/.local/lib/python3.8/site-packages (from azure-cli) (0.13.0)\n",
            "Requirement already satisfied: azure-mgmt-redhatopenshift~=1.2.0 in /home/prathikrao/.local/lib/python3.8/site-packages (from azure-cli) (1.2.0)\n",
            "Requirement already satisfied: azure-synapse-artifacts~=0.15.0 in /home/prathikrao/.local/lib/python3.8/site-packages (from azure-cli) (0.15.0)\n",
            "Requirement already satisfied: PyGithub~=1.38 in /home/prathikrao/.local/lib/python3.8/site-packages (from azure-cli) (1.59.0)\n",
            "Requirement already satisfied: PyNaCl~=1.5.0 in /home/prathikrao/.local/lib/python3.8/site-packages (from azure-cli) (1.5.0)\n",
            "Requirement already satisfied: azure-mgmt-authorization~=3.0.0 in /home/prathikrao/.local/lib/python3.8/site-packages (from azure-cli) (3.0.0)\n",
            "Requirement already satisfied: azure-mgmt-iothub==2.3.0 in /home/prathikrao/.local/lib/python3.8/site-packages (from azure-cli) (2.3.0)\n",
            "Requirement already satisfied: sshtunnel~=0.1.4 in /home/prathikrao/.local/lib/python3.8/site-packages (from azure-cli) (0.1.5)\n",
            "Requirement already satisfied: jsondiff~=2.0.0 in /home/prathikrao/.local/lib/python3.8/site-packages (from azure-cli) (2.0.0)\n",
            "Requirement already satisfied: azure-mgmt-servicelinker==1.2.0b1 in /home/prathikrao/.local/lib/python3.8/site-packages (from azure-cli) (1.2.0b1)\n",
            "Requirement already satisfied: azure-mgmt-extendedlocation==1.0.0b2 in /home/prathikrao/.local/lib/python3.8/site-packages (from azure-cli) (1.0.0b2)\n",
            "Requirement already satisfied: azure-mgmt-cosmosdb==9.2.0 in /home/prathikrao/.local/lib/python3.8/site-packages (from azure-cli) (9.2.0)\n",
            "Requirement already satisfied: azure-mgmt-containerinstance==10.1.0 in /home/prathikrao/.local/lib/python3.8/site-packages (from azure-cli) (10.1.0)\n",
            "Requirement already satisfied: azure-mgmt-storage~=21.0.0 in /home/prathikrao/.local/lib/python3.8/site-packages (from azure-cli) (21.0.0)\n",
            "Requirement already satisfied: azure-mgmt-apimanagement~=3.0.0 in /home/prathikrao/.local/lib/python3.8/site-packages (from azure-cli) (3.0.0)\n",
            "Requirement already satisfied: azure-mgmt-iothubprovisioningservices==1.1.0 in /home/prathikrao/.local/lib/python3.8/site-packages (from azure-cli) (1.1.0)\n",
            "Requirement already satisfied: azure-graphrbac~=0.60.0 in /home/prathikrao/.local/lib/python3.8/site-packages (from azure-cli) (0.60.0)\n",
            "Requirement already satisfied: azure-mgmt-containerregistry==10.1.0 in /home/prathikrao/.local/lib/python3.8/site-packages (from azure-cli) (10.1.0)\n",
            "Requirement already satisfied: azure-mgmt-eventgrid==10.2.0b2 in /home/prathikrao/.local/lib/python3.8/site-packages (from azure-cli) (10.2.0b2)\n",
            "Requirement already satisfied: azure-loganalytics~=0.1.0 in /home/prathikrao/.local/lib/python3.8/site-packages (from azure-cli) (0.1.1)\n",
            "Requirement already satisfied: azure-synapse-managedprivateendpoints~=0.4.0 in /home/prathikrao/.local/lib/python3.8/site-packages (from azure-cli) (0.4.0)\n",
            "Requirement already satisfied: semver==2.13.0 in /home/prathikrao/.local/lib/python3.8/site-packages (from azure-cli) (2.13.0)\n",
            "Requirement already satisfied: azure-mgmt-iotcentral~=10.0.0b1 in /home/prathikrao/.local/lib/python3.8/site-packages (from azure-cli) (10.0.0b2)\n",
            "Requirement already satisfied: azure-mgmt-dns~=8.0.0 in /home/prathikrao/.local/lib/python3.8/site-packages (from azure-cli) (8.0.0)\n",
            "Requirement already satisfied: azure-mgmt-msi~=7.0.0 in /home/prathikrao/.local/lib/python3.8/site-packages (from azure-cli) (7.0.0)\n",
            "Requirement already satisfied: azure-mgmt-datalake-analytics~=0.2.1 in /home/prathikrao/.local/lib/python3.8/site-packages (from azure-cli) (0.2.1)\n",
            "Requirement already satisfied: azure-mgmt-trafficmanager~=1.0.0 in /home/prathikrao/.local/lib/python3.8/site-packages (from azure-cli) (1.0.0)\n",
            "Requirement already satisfied: websocket-client~=1.3.1 in /home/prathikrao/.local/lib/python3.8/site-packages (from azure-cli) (1.3.3)\n",
            "Requirement already satisfied: azure-mgmt-maps~=2.0.0 in /home/prathikrao/.local/lib/python3.8/site-packages (from azure-cli) (2.0.0)\n",
            "Requirement already satisfied: azure-keyvault-keys==4.8.0b2 in /home/prathikrao/.local/lib/python3.8/site-packages (from azure-cli) (4.8.0b2)\n",
            "Requirement already satisfied: scp~=0.13.2 in /home/prathikrao/.local/lib/python3.8/site-packages (from azure-cli) (0.13.6)\n",
            "Requirement already satisfied: javaproperties~=0.5.1 in /home/prathikrao/.local/lib/python3.8/site-packages (from azure-cli) (0.5.2)\n",
            "Requirement already satisfied: azure-mgmt-advisor==9.0.0 in /home/prathikrao/.local/lib/python3.8/site-packages (from azure-cli) (9.0.0)\n",
            "Requirement already satisfied: azure-mgmt-imagebuilder~=1.2.0 in /home/prathikrao/.local/lib/python3.8/site-packages (from azure-cli) (1.2.0)\n",
            "Requirement already satisfied: azure-mgmt-batchai==7.0.0b1 in /home/prathikrao/.local/lib/python3.8/site-packages (from azure-cli) (7.0.0b1)\n",
            "Requirement already satisfied: azure-datalake-store~=0.0.49 in /home/prathikrao/.local/lib/python3.8/site-packages (from azure-cli) (0.0.53)\n",
            "Requirement already satisfied: urllib3[secure] in /usr/lib/python3/dist-packages (from azure-cli) (1.25.8)\n",
            "Requirement already satisfied: azure-mgmt-consumption~=2.0 in /home/prathikrao/.local/lib/python3.8/site-packages (from azure-cli) (2.0.0)\n",
            "Requirement already satisfied: azure-mgmt-servicebus~=8.2.0 in /home/prathikrao/.local/lib/python3.8/site-packages (from azure-cli) (8.2.0)\n",
            "Requirement already satisfied: azure-keyvault~=1.1.0 in /home/prathikrao/.local/lib/python3.8/site-packages (from azure-cli) (1.1.0)\n",
            "Requirement already satisfied: azure-mgmt-marketplaceordering==1.1.0 in /home/prathikrao/.local/lib/python3.8/site-packages (from azure-cli) (1.1.0)\n",
            "Requirement already satisfied: azure-mgmt-monitor~=5.0.0 in /home/prathikrao/.local/lib/python3.8/site-packages (from azure-cli) (5.0.1)\n",
            "Requirement already satisfied: azure-mgmt-netapp~=10.0.0 in /home/prathikrao/.local/lib/python3.8/site-packages (from azure-cli) (10.0.0)\n",
            "Requirement already satisfied: azure-mgmt-kusto~=0.3.0 in /home/prathikrao/.local/lib/python3.8/site-packages (from azure-cli) (0.3.0)\n",
            "Requirement already satisfied: azure-batch~=13.0.0 in /home/prathikrao/.local/lib/python3.8/site-packages (from azure-cli) (13.0.0)\n",
            "Requirement already satisfied: azure-cosmos>=3.0.2,~=3.0 in /home/prathikrao/.local/lib/python3.8/site-packages (from azure-cli) (3.2.0)\n",
            "Requirement already satisfied: azure-data-tables==12.4.0 in /home/prathikrao/.local/lib/python3.8/site-packages (from azure-cli) (12.4.0)\n",
            "Requirement already satisfied: azure-cli-core==2.49.0 in /home/prathikrao/.local/lib/python3.8/site-packages (from azure-cli) (2.49.0)\n",
            "Requirement already satisfied: azure-mgmt-servicefabric~=1.0.0 in /home/prathikrao/.local/lib/python3.8/site-packages (from azure-cli) (1.0.0)\n",
            "Requirement already satisfied: azure-mgmt-datamigration~=10.0.0 in /home/prathikrao/.local/lib/python3.8/site-packages (from azure-cli) (10.0.0)\n",
            "Requirement already satisfied: azure-mgmt-hdinsight~=9.0.0 in /home/prathikrao/.local/lib/python3.8/site-packages (from azure-cli) (9.0.0)\n",
            "Requirement already satisfied: azure-mgmt-signalr==1.1.0 in /home/prathikrao/.local/lib/python3.8/site-packages (from azure-cli) (1.1.0)\n",
            "Requirement already satisfied: azure-mgmt-servicefabricmanagedclusters~=1.0.0 in /home/prathikrao/.local/lib/python3.8/site-packages (from azure-cli) (1.0.0)\n",
            "Requirement already satisfied: azure-mgmt-security==3.0.0 in /home/prathikrao/.local/lib/python3.8/site-packages (from azure-cli) (3.0.0)\n",
            "Requirement already satisfied: azure-mgmt-appcontainers==2.0.0 in /home/prathikrao/.local/lib/python3.8/site-packages (from azure-cli) (2.0.0)\n",
            "Requirement already satisfied: azure-mgmt-billing==6.0.0 in /home/prathikrao/.local/lib/python3.8/site-packages (from azure-cli) (6.0.0)\n",
            "Requirement already satisfied: azure-mgmt-recoveryservicesbackup~=6.0.0 in /home/prathikrao/.local/lib/python3.8/site-packages (from azure-cli) (6.0.0)\n",
            "Requirement already satisfied: azure-mgmt-rdbms~=10.2.0b8 in /home/prathikrao/.local/lib/python3.8/site-packages (from azure-cli) (10.2.0b10)\n",
            "Requirement already satisfied: azure-mgmt-batch~=17.0.0 in /home/prathikrao/.local/lib/python3.8/site-packages (from azure-cli) (17.0.0)\n",
            "Requirement already satisfied: python-dateutil>=2.6.0 in /home/prathikrao/.local/lib/python3.8/site-packages (from strictyaml<=1.6.1->azure-ai-ml) (2.8.2)\n",
            "Requirement already satisfied: requests-oauthlib>=0.5.0 in /home/prathikrao/.local/lib/python3.8/site-packages (from msrest>=0.6.18->azure-ai-ml) (1.3.1)\n",
            "Requirement already satisfied: certifi>=2017.4.17 in /usr/lib/python3/dist-packages (from msrest>=0.6.18->azure-ai-ml) (2019.11.28)\n",
            "Requirement already satisfied: pkgutil-resolve-name>=1.3.10; python_version < \"3.9\" in /home/prathikrao/.local/lib/python3.8/site-packages (from jsonschema<5.0.0,>=4.0.0->azure-ai-ml) (1.3.10)\n",
            "Requirement already satisfied: importlib-resources>=1.4.0; python_version < \"3.9\" in /home/prathikrao/.local/lib/python3.8/site-packages (from jsonschema<5.0.0,>=4.0.0->azure-ai-ml) (5.12.0)\n",
            "Requirement already satisfied: pyrsistent!=0.17.0,!=0.17.1,!=0.17.2,>=0.14.0 in /usr/lib/python3/dist-packages (from jsonschema<5.0.0,>=4.0.0->azure-ai-ml) (0.15.5)\n",
            "Requirement already satisfied: attrs>=17.4.0 in /usr/lib/python3/dist-packages (from jsonschema<5.0.0,>=4.0.0->azure-ai-ml) (19.3.0)\n",
            "Requirement already satisfied: portalocker<3,>=1.0; python_version >= \"3.5\" and platform_system != \"Windows\" in /home/prathikrao/.local/lib/python3.8/site-packages (from msal-extensions<2.0.0,>=0.3.0->azure-identity) (2.7.0)\n",
            "Requirement already satisfied: filelock in /usr/lib/python3/dist-packages (from huggingface-hub<1.0.0,>=0.11.0->datasets) (3.0.12)\n",
            "Requirement already satisfied: tzdata>=2022.1 in /home/prathikrao/.local/lib/python3.8/site-packages (from pandas->datasets) (2023.3)\n",
            "Requirement already satisfied: pytz>=2020.1 in /home/prathikrao/.local/lib/python3.8/site-packages (from pandas->datasets) (2023.3)\n",
            "Requirement already satisfied: yarl<2.0,>=1.0 in /home/prathikrao/.local/lib/python3.8/site-packages (from aiohttp->datasets) (1.9.2)\n",
            "Requirement already satisfied: multidict<7.0,>=4.5 in /home/prathikrao/.local/lib/python3.8/site-packages (from aiohttp->datasets) (6.0.4)\n",
            "Requirement already satisfied: async-timeout<5.0,>=4.0.0a3 in /home/prathikrao/.local/lib/python3.8/site-packages (from aiohttp->datasets) (4.0.2)\n",
            "Requirement already satisfied: charset-normalizer<4.0,>=2.0 in /home/prathikrao/.local/lib/python3.8/site-packages (from aiohttp->datasets) (3.1.0)\n",
            "Requirement already satisfied: aiosignal>=1.1.2 in /home/prathikrao/.local/lib/python3.8/site-packages (from aiohttp->datasets) (1.3.1)\n",
            "Requirement already satisfied: frozenlist>=1.1.1 in /home/prathikrao/.local/lib/python3.8/site-packages (from aiohttp->datasets) (1.3.3)\n",
            "Requirement already satisfied: msrestazure<2.0.0,>=0.4.32 in /home/prathikrao/.local/lib/python3.8/site-packages (from azure-mgmt-managedservices~=1.0->azure-cli) (0.6.4)\n",
            "Requirement already satisfied: azure-mgmt-nspkg>=2.0.0 in /home/prathikrao/.local/lib/python3.8/site-packages (from azure-mgmt-relay~=0.1.0->azure-cli) (3.0.2)\n",
            "Requirement already satisfied: azure-mgmt-datalake-nspkg>=2.0.0 in /home/prathikrao/.local/lib/python3.8/site-packages (from azure-mgmt-datalake-store~=0.5.0->azure-cli) (3.0.1)\n",
            "Requirement already satisfied: paramiko>=2.4 in /home/prathikrao/.local/lib/python3.8/site-packages (from fabric~=2.4->azure-cli) (3.2.0)\n",
            "Requirement already satisfied: pathlib2 in /home/prathikrao/.local/lib/python3.8/site-packages (from fabric~=2.4->azure-cli) (2.3.7.post1)\n",
            "Requirement already satisfied: invoke<2.0,>=1.3 in /home/prathikrao/.local/lib/python3.8/site-packages (from fabric~=2.4->azure-cli) (1.7.3)\n",
            "Requirement already satisfied: deprecated in /home/prathikrao/.local/lib/python3.8/site-packages (from PyGithub~=1.38->azure-cli) (1.2.14)\n",
            "Requirement already satisfied: cffi>=1.4.1 in /home/prathikrao/.local/lib/python3.8/site-packages (from PyNaCl~=1.5.0->azure-cli) (1.15.1)\n",
            "Requirement already satisfied: idna>=2.0.0 in /usr/lib/python3/dist-packages (from urllib3[secure]->azure-cli) (2.8)\n",
            "Requirement already satisfied: pyOpenSSL>=0.14 in /usr/lib/python3/dist-packages (from urllib3[secure]->azure-cli) (19.0.0)\n",
            "Requirement already satisfied: azure-nspkg>=2.0.0 in /home/prathikrao/.local/lib/python3.8/site-packages (from azure-keyvault~=1.1.0->azure-cli) (3.0.2)\n",
            "Requirement already satisfied: knack~=0.10.1 in /home/prathikrao/.local/lib/python3.8/site-packages (from azure-cli-core==2.49.0->azure-cli) (0.10.1)\n",
            "Requirement already satisfied: psutil~=5.9; sys_platform != \"cygwin\" in /home/prathikrao/.local/lib/python3.8/site-packages (from azure-cli-core==2.49.0->azure-cli) (5.9.5)\n",
            "Requirement already satisfied: jmespath in /home/prathikrao/.local/lib/python3.8/site-packages (from azure-cli-core==2.49.0->azure-cli) (1.0.1)\n",
            "Requirement already satisfied: pkginfo>=1.5.0.1 in /home/prathikrao/.local/lib/python3.8/site-packages (from azure-cli-core==2.49.0->azure-cli) (1.9.6)\n",
            "Requirement already satisfied: azure-cli-telemetry==1.0.8.* in /home/prathikrao/.local/lib/python3.8/site-packages (from azure-cli-core==2.49.0->azure-cli) (1.0.8)\n",
            "Requirement already satisfied: humanfriendly~=10.0 in /home/prathikrao/.local/lib/python3.8/site-packages (from azure-cli-core==2.49.0->azure-cli) (10.0)\n",
            "Requirement already satisfied: argcomplete~=2.0 in /home/prathikrao/.local/lib/python3.8/site-packages (from azure-cli-core==2.49.0->azure-cli) (2.1.2)\n",
            "Requirement already satisfied: oauthlib>=3.0.0 in /usr/lib/python3/dist-packages (from requests-oauthlib>=0.5.0->msrest>=0.6.18->azure-ai-ml) (3.1.0)\n",
            "Requirement already satisfied: zipp>=3.1.0; python_version < \"3.10\" in /home/prathikrao/.local/lib/python3.8/site-packages (from importlib-resources>=1.4.0; python_version < \"3.9\"->jsonschema<5.0.0,>=4.0.0->azure-ai-ml) (3.15.0)\n",
            "Requirement already satisfied: adal<2.0.0,>=0.6.0 in /home/prathikrao/.local/lib/python3.8/site-packages (from msrestazure<2.0.0,>=0.4.32->azure-mgmt-managedservices~=1.0->azure-cli) (1.2.7)\n",
            "Requirement already satisfied: bcrypt>=3.2 in /home/prathikrao/.local/lib/python3.8/site-packages (from paramiko>=2.4->fabric~=2.4->azure-cli) (4.0.1)\n",
            "Requirement already satisfied: wrapt<2,>=1.10 in /home/prathikrao/.local/lib/python3.8/site-packages (from deprecated->PyGithub~=1.38->azure-cli) (1.15.0)\n",
            "Requirement already satisfied: pycparser in /home/prathikrao/.local/lib/python3.8/site-packages (from cffi>=1.4.1->PyNaCl~=1.5.0->azure-cli) (2.21)\n",
            "Requirement already satisfied: pygments in /home/prathikrao/.local/lib/python3.8/site-packages (from knack~=0.10.1->azure-cli-core==2.49.0->azure-cli) (2.15.1)\n",
            "Requirement already satisfied: tabulate in /home/prathikrao/.local/lib/python3.8/site-packages (from knack~=0.10.1->azure-cli-core==2.49.0->azure-cli) (0.9.0)\n",
            "Requirement already satisfied: applicationinsights<0.12,>=0.11.1 in /home/prathikrao/.local/lib/python3.8/site-packages (from azure-cli-telemetry==1.0.8.*->azure-cli-core==2.49.0->azure-cli) (0.11.10)\n",
            "Note: you may need to restart the kernel to use updated packages.\n",
            "huggingface/tokenizers: The current process just got forked, after parallelism has already been used. Disabling parallelism to avoid deadlocks...\n",
            "To disable this warning, you can either:\n",
            "\t- Avoid using `tokenizers` before the fork if possible\n",
            "\t- Explicitly set the environment variable TOKENIZERS_PARALLELISM=(true | false)\n",
            ".Requirement already satisfied: onnxruntime==1.15.1 in /home/prathikrao/.local/lib/python3.8/site-packages (1.15.1)\n",
            "Requirement already satisfied: transformers==4.29.2 in /home/prathikrao/.local/lib/python3.8/site-packages (4.29.2)\n",
            "Requirement already satisfied: torch==2.0 in /home/prathikrao/.local/lib/python3.8/site-packages (2.0.0)\n",
            "Requirement already satisfied: protobuf in /home/prathikrao/.local/lib/python3.8/site-packages (from onnxruntime==1.15.1) (4.23.3)\n",
            "Requirement already satisfied: flatbuffers in /home/prathikrao/.local/lib/python3.8/site-packages (from onnxruntime==1.15.1) (23.5.26)\n",
            "Requirement already satisfied: coloredlogs in /home/prathikrao/.local/lib/python3.8/site-packages (from onnxruntime==1.15.1) (15.0.1)\n",
            "Requirement already satisfied: numpy>=1.21.6 in /home/prathikrao/.local/lib/python3.8/site-packages (from onnxruntime==1.15.1) (1.24.3)\n",
            "Requirement already satisfied: packaging in /home/prathikrao/.local/lib/python3.8/site-packages (from onnxruntime==1.15.1) (23.1)\n",
            "Requirement already satisfied: sympy in /home/prathikrao/.local/lib/python3.8/site-packages (from onnxruntime==1.15.1) (1.12)\n",
            "Requirement already satisfied: tqdm>=4.27 in /home/prathikrao/.local/lib/python3.8/site-packages (from transformers==4.29.2) (4.63.0)\n",
            "Requirement already satisfied: huggingface-hub<1.0,>=0.14.1 in /home/prathikrao/.local/lib/python3.8/site-packages (from transformers==4.29.2) (0.15.1)\n",
            "Requirement already satisfied: requests in /usr/lib/python3/dist-packages (from transformers==4.29.2) (2.22.0)\n",
            "Requirement already satisfied: regex!=2019.12.17 in /home/prathikrao/.local/lib/python3.8/site-packages (from transformers==4.29.2) (2023.6.3)\n",
            "Requirement already satisfied: pyyaml>=5.1 in /usr/lib/python3/dist-packages (from transformers==4.29.2) (5.3.1)\n",
            "Requirement already satisfied: tokenizers!=0.11.3,<0.14,>=0.11.1 in /home/prathikrao/.local/lib/python3.8/site-packages (from transformers==4.29.2) (0.13.3)\n",
            "Requirement already satisfied: filelock in /usr/lib/python3/dist-packages (from transformers==4.29.2) (3.0.12)\n",
            "Requirement already satisfied: nvidia-cuda-runtime-cu11==11.7.99; platform_system == \"Linux\" and platform_machine == \"x86_64\" in /home/prathikrao/.local/lib/python3.8/site-packages (from torch==2.0) (11.7.99)\n",
            "Requirement already satisfied: jinja2 in /home/prathikrao/.local/lib/python3.8/site-packages (from torch==2.0) (3.1.2)\n",
            "Requirement already satisfied: nvidia-cufft-cu11==10.9.0.58; platform_system == \"Linux\" and platform_machine == \"x86_64\" in /home/prathikrao/.local/lib/python3.8/site-packages (from torch==2.0) (10.9.0.58)\n",
            "Requirement already satisfied: nvidia-cuda-nvrtc-cu11==11.7.99; platform_system == \"Linux\" and platform_machine == \"x86_64\" in /home/prathikrao/.local/lib/python3.8/site-packages (from torch==2.0) (11.7.99)\n",
            "Requirement already satisfied: nvidia-cuda-cupti-cu11==11.7.101; platform_system == \"Linux\" and platform_machine == \"x86_64\" in /home/prathikrao/.local/lib/python3.8/site-packages (from torch==2.0) (11.7.101)\n",
            "Requirement already satisfied: nvidia-nvtx-cu11==11.7.91; platform_system == \"Linux\" and platform_machine == \"x86_64\" in /home/prathikrao/.local/lib/python3.8/site-packages (from torch==2.0) (11.7.91)\n",
            "Requirement already satisfied: typing-extensions in /home/prathikrao/.local/lib/python3.8/site-packages (from torch==2.0) (4.6.3)\n",
            "Requirement already satisfied: nvidia-cublas-cu11==11.10.3.66; platform_system == \"Linux\" and platform_machine == \"x86_64\" in /home/prathikrao/.local/lib/python3.8/site-packages (from torch==2.0) (11.10.3.66)\n",
            "Requirement already satisfied: networkx in /home/prathikrao/.local/lib/python3.8/site-packages (from torch==2.0) (3.1)\n",
            "Requirement already satisfied: nvidia-cusolver-cu11==11.4.0.1; platform_system == \"Linux\" and platform_machine == \"x86_64\" in /home/prathikrao/.local/lib/python3.8/site-packages (from torch==2.0) (11.4.0.1)\n",
            "Requirement already satisfied: nvidia-nccl-cu11==2.14.3; platform_system == \"Linux\" and platform_machine == \"x86_64\" in /home/prathikrao/.local/lib/python3.8/site-packages (from torch==2.0) (2.14.3)\n",
            "Requirement already satisfied: nvidia-curand-cu11==10.2.10.91; platform_system == \"Linux\" and platform_machine == \"x86_64\" in /home/prathikrao/.local/lib/python3.8/site-packages (from torch==2.0) (10.2.10.91)\n",
            "Requirement already satisfied: nvidia-cusparse-cu11==11.7.4.91; platform_system == \"Linux\" and platform_machine == \"x86_64\" in /home/prathikrao/.local/lib/python3.8/site-packages (from torch==2.0) (11.7.4.91)\n",
            "Requirement already satisfied: nvidia-cudnn-cu11==8.5.0.96; platform_system == \"Linux\" and platform_machine == \"x86_64\" in /home/prathikrao/.local/lib/python3.8/site-packages (from torch==2.0) (8.5.0.96)\n",
            "Requirement already satisfied: triton==2.0.0; platform_system == \"Linux\" and platform_machine == \"x86_64\" in /home/prathikrao/.local/lib/python3.8/site-packages (from torch==2.0) (2.0.0)\n",
            "Requirement already satisfied: humanfriendly>=9.1 in /home/prathikrao/.local/lib/python3.8/site-packages (from coloredlogs->onnxruntime==1.15.1) (10.0)\n",
            "Requirement already satisfied: mpmath>=0.19 in /home/prathikrao/.local/lib/python3.8/site-packages (from sympy->onnxruntime==1.15.1) (1.3.0)\n",
            "Requirement already satisfied: fsspec in /home/prathikrao/.local/lib/python3.8/site-packages (from huggingface-hub<1.0,>=0.14.1->transformers==4.29.2) (2023.6.0)\n",
            "Requirement already satisfied: setuptools in /usr/lib/python3/dist-packages (from nvidia-cuda-runtime-cu11==11.7.99; platform_system == \"Linux\" and platform_machine == \"x86_64\"->torch==2.0) (45.2.0)\n",
            "Requirement already satisfied: wheel in /usr/lib/python3/dist-packages (from nvidia-cuda-runtime-cu11==11.7.99; platform_system == \"Linux\" and platform_machine == \"x86_64\"->torch==2.0) (0.34.2)\n",
            "Requirement already satisfied: MarkupSafe>=2.0 in /home/prathikrao/.local/lib/python3.8/site-packages (from jinja2->torch==2.0) (2.1.3)\n",
            "Requirement already satisfied: lit in /home/prathikrao/.local/lib/python3.8/site-packages (from triton==2.0.0; platform_system == \"Linux\" and platform_machine == \"x86_64\"->torch==2.0) (16.0.6)\n",
            "Requirement already satisfied: cmake in /home/prathikrao/.local/lib/python3.8/site-packages (from triton==2.0.0; platform_system == \"Linux\" and platform_machine == \"x86_64\"->torch==2.0) (3.26.4)\n",
            "Note: you may need to restart the kernel to use updated packages.\n"
          ]
        }
      ],
      "source": [
        "%pip install azure-ai-ml azure-identity datasets azure-cli\n",
        "%pip install onnxruntime==1.15.1 transformers==4.29.2 torch==2.0"
      ]
    },
    {
      "cell_type": "code",
      "execution_count": 43,
      "metadata": {},
      "outputs": [],
      "source": [
        "# !az login --use-device-code"
      ]
    },
    {
      "attachments": {},
      "cell_type": "markdown",
      "metadata": {
        "nteract": {
          "transient": {
            "deleting": false
          }
        }
      },
      "source": [
        "#### 2. Connect to Azure Machine Learning workspace\n",
        "\n",
        "Before we dive in the code, you'll need to connect to your workspace. The workspace is the top-level resource for Azure Machine Learning, providing a centralized place to work with all the artifacts you create when you use Azure Machine Learning.\n",
        "\n",
        "For this lab, we've already setup an AzureML Workspace for you. If you'd like to learn more about `Workspace`s, please reference [`AzureML's documentation`](https://learn.microsoft.com/en-us/azure/machine-learning/how-to-manage-workspace?view=azureml-api-2&tabs=azure-portal).\n",
        "\n",
        "We are using the `DefaultAzureCredential` to get access to workspace. `DefaultAzureCredential` should be capable of handling most scenarios. If you want to learn more about other available credentials, go to [`Set up authentication`](https://learn.microsoft.com/en-us/azure/machine-learning/how-to-setup-authentication?tabs=sdk&view=azureml-api-2) for more available credentials."
      ]
    },
    {
      "cell_type": "code",
      "execution_count": 44,
      "metadata": {
        "gather": {
          "logged": 1684438680625
        }
      },
      "outputs": [
        {
          "name": "stdout",
          "output_type": "stream",
          "text": [
            "huggingface/tokenizers: The current process just got forked, after parallelism has already been used. Disabling parallelism to avoid deadlocks...\n",
            "To disable this warning, you can either:\n",
            "\t- Avoid using `tokenizers` before the fork if possible\n",
            "\t- Explicitly set the environment variable TOKENIZERS_PARALLELISM=(true | false)\n"
          ]
        }
      ],
      "source": [
        "from azure.ai.ml import MLClient\n",
        "from azure.identity import AzureCliCredential\n",
        "\n",
        "credential = AzureCliCredential()\n",
        "credential.get_token(\"https://management.azure.com/.default\")\n",
        "\n",
        "ml_client = MLClient(\n",
        "    credential,\n",
        "    subscription_id=\"ed2cab61-14cc-4fb3-ac23-d72609214cfd\",\n",
        "    resource_group_name=\"AMLDataCache\",\n",
        "    workspace_name=\"datacachetest\",\n",
        ")"
      ]
    },
    {
      "attachments": {},
      "cell_type": "markdown",
      "metadata": {
        "nteract": {
          "transient": {
            "deleting": false
          }
        }
      },
      "source": [
        "#### 3. Create a compute\n",
        "\n",
        "Azure Machine Learning needs a compute resource to run a job. This resource can be single or multi-node machines with Linux or Windows OS. In the following example script, we provision a `Standard_ND40rs_v2` SKU which is infiniband enabled to provide higher node communication bandwidth and low latency with mellanox drivers to create an Azure Machine Learning compute. You can get the list and more detail [here](https://learn.microsoft.com/en-us/azure/virtual-machines/sizes-hpc#rdma-capable-instances)"
      ]
    },
    {
      "cell_type": "code",
      "execution_count": 45,
      "metadata": {
        "gather": {
          "logged": 1684438712706
        },
        "jupyter": {
          "outputs_hidden": false,
          "source_hidden": false
        },
        "nteract": {
          "transient": {
            "deleting": false
          }
        }
      },
      "outputs": [
        {
          "name": "stdout",
          "output_type": "stream",
          "text": [
            "huggingface/tokenizers: The current process just got forked, after parallelism has already been used. Disabling parallelism to avoid deadlocks...\n",
            "To disable this warning, you can either:\n",
            "\t- Avoid using `tokenizers` before the fork if possible\n",
            "\t- Explicitly set the environment variable TOKENIZERS_PARALLELISM=(true | false)\n",
            "successfully fetched compute: v100\n"
          ]
        }
      ],
      "source": [
        "from azure.ai.ml.entities import AmlCompute\n",
        "\n",
        "experiment_name = \"T5-Summarization-news-summary\"\n",
        "\n",
        "# If you already have a gpu cluster, mention it here. Else will create a new one\n",
        "compute_cluster = \"v100\"\n",
        "try:\n",
        "    compute = ml_client.compute.get(compute_cluster)\n",
        "    print(\"successfully fetched compute:\", compute.name)\n",
        "except Exception as ex:\n",
        "    print(\"failed to fetch compute:\", compute_cluster)\n",
        "    print(\"creating new Standard_ND40rs_v2 compute\")\n",
        "    compute = AmlCompute(\n",
        "        name=compute_cluster,\n",
        "        size=\"Standard_ND40rs_v2\", # Info on Standard_ND40rs_v2 SKU: https://learn.microsoft.com/en-us/azure/virtual-machines/ndv2-series\n",
        "        min_instances=1,\n",
        "        max_instances=2,  # For multi node training set this to an integer value more than 1\n",
        "    )\n",
        "    ml_client.compute.begin_create_or_update(compute).wait()\n",
        "    print(\"successfully created compute:\", compute.name)\n"
      ]
    },
    {
      "attachments": {},
      "cell_type": "markdown",
      "metadata": {
        "nteract": {
          "transient": {
            "deleting": false
          }
        }
      },
      "source": [
        "#### 4. Create a job environment using Azure Container for Pytorch\n",
        "\n",
        "We will be creating a custom environment using existing ACPT curated environment consisting of state of art technologies like Deepspeed, OnnxRuntime. You can get more detail from [Custom Environment](https://learn.microsoft.com/en-us/azure/machine-learning/how-to-azure-container-for-pytorch-environment?view=azureml-api-2)\n",
        "\n",
        "\n",
        "view the [Environments in Azure Machine Learning studio](https://ml.azure.com/environments)"
      ]
    },
    {
      "cell_type": "code",
      "execution_count": 46,
      "metadata": {
        "gather": {
          "logged": 1684438754226
        },
        "jupyter": {
          "outputs_hidden": false,
          "source_hidden": false
        },
        "nteract": {
          "transient": {
            "deleting": false
          }
        }
      },
      "outputs": [
        {
          "name": "stdout",
          "output_type": "stream",
          "text": [
            "huggingface/tokenizers: The current process just got forked, after parallelism has already been used. Disabling parallelism to avoid deadlocks...\n",
            "To disable this warning, you can either:\n",
            "\t- Avoid using `tokenizers` before the fork if possible\n",
            "\t- Explicitly set the environment variable TOKENIZERS_PARALLELISM=(true | false)\n",
            ".."
          ]
        },
        {
          "data": {
            "text/plain": [
              "Environment({'is_anonymous': False, 'auto_increment_version': False, 'name': 'env-07102237994041', 'description': 'Environment created from a Docker context.', 'tags': {}, 'properties': {}, 'id': '/subscriptions/ed2cab61-14cc-4fb3-ac23-d72609214cfd/resourceGroups/AMLDataCache/providers/Microsoft.MachineLearningServices/workspaces/datacachetest/environments/env-07102237994041/versions/1', 'Resource__source_path': None, 'base_path': '/bert_ort/prathikrao/onnxruntime-training-examples/T5', 'creation_context': <azure.ai.ml.entities._system_data.SystemData object at 0x7fd175a6f8b0>, 'serialize': <msrest.serialization.Serializer object at 0x7fd466b7ea90>, 'version': '1', 'latest_version': None, 'conda_file': None, 'image': None, 'build': <azure.ai.ml.entities._assets.environment.BuildContext object at 0x7fd175a6f310>, 'inference_config': None, 'os_type': 'Linux', 'arm_type': 'environment_version', 'conda_file_path': None, 'path': None, 'datastore': None, 'upload_hash': None, 'translated_conda_file': None})"
            ]
          },
          "execution_count": 46,
          "metadata": {},
          "output_type": "execute_result"
        }
      ],
      "source": [
        "from azure.ai.ml.entities import Environment, BuildContext\n",
        "import datetime\n",
        "\n",
        "# Define an environment name\n",
        "env_name = \"env-\" + datetime.datetime.now().strftime(\"%m%d%H%M%f\")\n",
        "\n",
        "env_docker_context = Environment(\n",
        "    build=BuildContext(path=\"src/Environment/context\"),\n",
        "    name=env_name,\n",
        "    description=\"Environment created from a Docker context.\",\n",
        ")\n",
        "ml_client.environments.create_or_update(env_docker_context)\n"
      ]
    },
    {
      "attachments": {},
      "cell_type": "markdown",
      "metadata": {},
      "source": [
        "#### 5. Pick the dataset for fine-tuning the model\n",
        "\n",
        "The [CNN DailyMail](https://huggingface.co/datasets/cnn_dailymail) dataset is an English-language dataset containing just over 300k unique news articles as written by journalists at CNN and the Daily Mail. It is larger than 1GB when uncompressed. \n",
        "\n",
        "We want this sample to run quickly, so a copy of the fraction of dataset is used for fine tuning job.This means the fine tuned model will have lower accuracy, hence it should not be put to real-world use. \n",
        "* Visualize some data rows. "
      ]
    },
    {
      "cell_type": "code",
      "execution_count": 47,
      "metadata": {
        "gather": {
          "logged": 1684438763102
        }
      },
      "outputs": [
        {
          "data": {
            "text/html": [
              "<div>\n",
              "<style scoped>\n",
              "    .dataframe tbody tr th:only-of-type {\n",
              "        vertical-align: middle;\n",
              "    }\n",
              "\n",
              "    .dataframe tbody tr th {\n",
              "        vertical-align: top;\n",
              "    }\n",
              "\n",
              "    .dataframe thead th {\n",
              "        text-align: right;\n",
              "    }\n",
              "</style>\n",
              "<table border=\"1\" class=\"dataframe\">\n",
              "  <thead>\n",
              "    <tr style=\"text-align: right;\">\n",
              "      <th></th>\n",
              "      <th>article</th>\n",
              "      <th>highlights</th>\n",
              "      <th>id</th>\n",
              "    </tr>\n",
              "  </thead>\n",
              "  <tbody>\n",
              "    <tr>\n",
              "      <th>0</th>\n",
              "      <td>We are well versed in the dangers of using sunbeds, with skin cancer preying on the minds of all who expose their skin to the UV rays. But experts have warned the disease is not the only health danger associated with the pursuit of an artificial year-round tan. Those compelled by a desire for bronzed skin are also at risk of catching a sexually transmitted infection - herpes. Dermatologist Dawn Marie Davies, from the Mayo Clinic in Minnesota, warns sunbed users could be putting themselves at risk of contracting the sexually transmitted infection, herpes . Genital herpes is highly contagious and spreads from one person to another via skin-to-skin contact. It is commonly passed on through sex and oral sex. Once a person is infected with the virus it can reactivate every so often to cause a new episode of painful genital herpes. There is no complete cure for the infection - rather, a sufferer will be given treatment each time they suffer a flare up. Dermatologist Dawn Marie Davies, an...</td>\n",
              "      <td>Skin cancer is not the only health danger lurking for sunbed users .\\nDermatologist warns the herpes virus can thrive in the warm enviroment .\\nUltraviolent light can kill bacteria, but level in tanning booths is not enough .\\nHerpes is highly contagious and incurable and spreads via skin contact .</td>\n",
              "      <td>39553f1871b87d88d22bd3a1dd938b0142ced6ca</td>\n",
              "    </tr>\n",
              "    <tr>\n",
              "      <th>1</th>\n",
              "      <td>From Victoria Beckham to the Duchess of Cambridge, our favourite celebrities always dress to impress. But if you thought they rolled out of bed and picked up the first thing in their wardrobe, you're mistaken. The A-listers have tried-and-tested techniques when it comes to getting dressed and they all follow simple styling hacks to flatter their figure. FEMAIL has pulled together the simple but effective celebrity-favoured styling tips you can employ to make the most of your figure. Scroll down for video . The A-listers have tried-and-tested techniques when it comes to getting dressed and they all follow simple styling hacks to flatter their figure . COMBINE NAVY AND BLACK . The fash-pack have long championed head-to-toe black, but they're shaking it up for spring by injecting another colour into their wardrobes. Navy rocked the runways, from Calvin Klein to The Row, and the likes of Victoria Beckham and Rita Ora can't get enough of it. As our favourite stars prove, combining trust...</td>\n",
              "      <td>Victoria Beckham has updated her black wardrobe with a hint of navy .\\nThe Duchess of Cambridge's favourite nude shoes make legs appear leaner .\\nSticking to one neutral colour palette like Kim Kardashian is flattering .</td>\n",
              "      <td>738faf68a71f062e01376b06f4e1f12507e9cdbf</td>\n",
              "    </tr>\n",
              "    <tr>\n",
              "      <th>2</th>\n",
              "      <td>An American company claims to have invented a 'teabag' that can turn an ordinary pint of lager into a craft beer the same way  hot water is turned into brew . The Hop Theory 'beer-bag' contains a blend of hops, fruit peels and natural spices, and promises to turn light beer into craft after just two minutes of steeping. However, despite nearly reaching its crowd-funding target, the project has been criticised by professional breweries as being misleading about what constitutes as 'craft beer'. Scroll down for video . Transformation: The Hop Theory sachets promises to turn lager into craft beer in just two minutes . Hop Theory, based in Maryland, is nearing its $25,000 target on crowd-funding site Kickstarter to produce its first blend, claiming it will turn lager into 'craft beer' in just two to four minutes. Bobby Gattuso, who founded the company as a biology student in 2013,  hopes to revolutionise beer drinking. 'Craft beer excels in taste but it's expensive. Light beer is cost ...</td>\n",
              "      <td>Maryland start-up promises to turn lager into craft beer with 'tea bag'\\nInfusion sachet contains a blend of hops, fruit peels and natural spices .\\nAfter two minutes in a pint, the Hop Theory bag has created 'craft beer'\\nCriticised by breweries for being misleading about what craft beer is .</td>\n",
              "      <td>03b0e69b52d27eb51f4aa2af9769913ad8352002</td>\n",
              "    </tr>\n",
              "    <tr>\n",
              "      <th>3</th>\n",
              "      <td>A cafe in the Philippines is serving up artistic cups of coffee for customers who enjoy their beverages tailor made. The owner of the Bunny Baker Cafe in Manila etches customised caricatures into coffee froth at no extra cost to his clientele, even detailing local favourite, boxer Manny Pacquiao. Graphic artist Zach Yonzon runs the cafe with his wife and uses steamed milk and froth as the canvas upon which he creates his masterpieces which can leave happy memories for tourists. Zach Yonzon uses steamed milk and froth as the canvas upon which he creates his masterpieces . And the tools of his unique trade include a spoon and a barbecue skewer, which he dips in dark chocolate. The service started out as a simple novelty when the owner began etching rabbits, which coincide with the cafe's theme, into cups of coffee. But the idea quickly expanded when customers started asking for more intricate and complicated designs. This means tourists to the area can leave with a special memento fr...</td>\n",
              "      <td>Zach Yonzon runs the Bunny Baker Cafe with his wife in Manila .\\nArtist uses a spoon and a barbecue skewer dipped in chocolate .\\nCreates incredibly detailed portraits at the request of customers .\\nService started out as novelty when owner began etching rabbits .\\nArtistic barista hopes to one day be able to create 3D caricatures .</td>\n",
              "      <td>dc69e09212bb9ac1965ba53f7437c7a5f9193eb4</td>\n",
              "    </tr>\n",
              "    <tr>\n",
              "      <th>4</th>\n",
              "      <td>A graphic on NBC's Today show on Wednesday misidentified Saturday Night Live creator Lorne Michaels as 'Lauren'. The flub by a graphics person, made on the East Coast feed of the morning show, was corrected for broadcasts in other time zones and online, the network said. Today had interviewed 70-year-old Michaels for a story Matt Lauer did on a New York gathering for people listed by TIME magazine as the 100 most influential in the world. Michaels is a legend at NBC for SNL - making the mistake by his own network even more embarrassing. Scroll down for video . Naming blunder: A graphic on NBC's Today show on Wednesday misidentified Saturday Night Live creator Lorne Michaels as 'Lauren' Michaels, a native of Toronto, made the cut for the second time since 2008. The thrice married father-of-three made up  part of the Titans category on the list compiled by TIME, which included rapper Kanye West, Apple CEO Tim Cook and reality TV star Kim Kardashian. 'Hard to think of anyone more skil...</td>\n",
              "      <td>A graphic on NBC's Today show on Wednesday misidentified Saturday Night Live creator Lorne Michaels as 'Lauren'\\nThe flub by a graphics person, made on the East Coast feed of the morning show, was corrected for broadcasts in other time zones and online .\\nToday interviewed 70-year-old Michaels for a story  on New York gathering for influential people listed by TIME magazine .</td>\n",
              "      <td>451829b5e4171ac3b54d2c4457b09855d429c33a</td>\n",
              "    </tr>\n",
              "  </tbody>\n",
              "</table>\n",
              "</div>"
            ],
            "text/plain": [
              "                                                                                                                                                                                                                                                                                                                                                                                                                                                                                                                                                                                                                                                                                                                                                                                                                                                                                                                                                                                                                                   article  \\\n",
              "0  We are well versed in the dangers of using sunbeds, with skin cancer preying on the minds of all who expose their skin to the UV rays. But experts have warned the disease is not the only health danger associated with the pursuit of an artificial year-round tan. Those compelled by a desire for bronzed skin are also at risk of catching a sexually transmitted infection - herpes. Dermatologist Dawn Marie Davies, from the Mayo Clinic in Minnesota, warns sunbed users could be putting themselves at risk of contracting the sexually transmitted infection, herpes . Genital herpes is highly contagious and spreads from one person to another via skin-to-skin contact. It is commonly passed on through sex and oral sex. Once a person is infected with the virus it can reactivate every so often to cause a new episode of painful genital herpes. There is no complete cure for the infection - rather, a sufferer will be given treatment each time they suffer a flare up. Dermatologist Dawn Marie Davies, an...   \n",
              "1  From Victoria Beckham to the Duchess of Cambridge, our favourite celebrities always dress to impress. But if you thought they rolled out of bed and picked up the first thing in their wardrobe, you're mistaken. The A-listers have tried-and-tested techniques when it comes to getting dressed and they all follow simple styling hacks to flatter their figure. FEMAIL has pulled together the simple but effective celebrity-favoured styling tips you can employ to make the most of your figure. Scroll down for video . The A-listers have tried-and-tested techniques when it comes to getting dressed and they all follow simple styling hacks to flatter their figure . COMBINE NAVY AND BLACK . The fash-pack have long championed head-to-toe black, but they're shaking it up for spring by injecting another colour into their wardrobes. Navy rocked the runways, from Calvin Klein to The Row, and the likes of Victoria Beckham and Rita Ora can't get enough of it. As our favourite stars prove, combining trust...   \n",
              "2  An American company claims to have invented a 'teabag' that can turn an ordinary pint of lager into a craft beer the same way  hot water is turned into brew . The Hop Theory 'beer-bag' contains a blend of hops, fruit peels and natural spices, and promises to turn light beer into craft after just two minutes of steeping. However, despite nearly reaching its crowd-funding target, the project has been criticised by professional breweries as being misleading about what constitutes as 'craft beer'. Scroll down for video . Transformation: The Hop Theory sachets promises to turn lager into craft beer in just two minutes . Hop Theory, based in Maryland, is nearing its $25,000 target on crowd-funding site Kickstarter to produce its first blend, claiming it will turn lager into 'craft beer' in just two to four minutes. Bobby Gattuso, who founded the company as a biology student in 2013,  hopes to revolutionise beer drinking. 'Craft beer excels in taste but it's expensive. Light beer is cost ...   \n",
              "3  A cafe in the Philippines is serving up artistic cups of coffee for customers who enjoy their beverages tailor made. The owner of the Bunny Baker Cafe in Manila etches customised caricatures into coffee froth at no extra cost to his clientele, even detailing local favourite, boxer Manny Pacquiao. Graphic artist Zach Yonzon runs the cafe with his wife and uses steamed milk and froth as the canvas upon which he creates his masterpieces which can leave happy memories for tourists. Zach Yonzon uses steamed milk and froth as the canvas upon which he creates his masterpieces . And the tools of his unique trade include a spoon and a barbecue skewer, which he dips in dark chocolate. The service started out as a simple novelty when the owner began etching rabbits, which coincide with the cafe's theme, into cups of coffee. But the idea quickly expanded when customers started asking for more intricate and complicated designs. This means tourists to the area can leave with a special memento fr...   \n",
              "4  A graphic on NBC's Today show on Wednesday misidentified Saturday Night Live creator Lorne Michaels as 'Lauren'. The flub by a graphics person, made on the East Coast feed of the morning show, was corrected for broadcasts in other time zones and online, the network said. Today had interviewed 70-year-old Michaels for a story Matt Lauer did on a New York gathering for people listed by TIME magazine as the 100 most influential in the world. Michaels is a legend at NBC for SNL - making the mistake by his own network even more embarrassing. Scroll down for video . Naming blunder: A graphic on NBC's Today show on Wednesday misidentified Saturday Night Live creator Lorne Michaels as 'Lauren' Michaels, a native of Toronto, made the cut for the second time since 2008. The thrice married father-of-three made up  part of the Titans category on the list compiled by TIME, which included rapper Kanye West, Apple CEO Tim Cook and reality TV star Kim Kardashian. 'Hard to think of anyone more skil...   \n",
              "\n",
              "                                                                                                                                                                                                                                                                                                                                                                                   highlights  \\\n",
              "0                                                                                 Skin cancer is not the only health danger lurking for sunbed users .\\nDermatologist warns the herpes virus can thrive in the warm enviroment .\\nUltraviolent light can kill bacteria, but level in tanning booths is not enough .\\nHerpes is highly contagious and incurable and spreads via skin contact .   \n",
              "1                                                                                                                                                                Victoria Beckham has updated her black wardrobe with a hint of navy .\\nThe Duchess of Cambridge's favourite nude shoes make legs appear leaner .\\nSticking to one neutral colour palette like Kim Kardashian is flattering .   \n",
              "2                                                                                      Maryland start-up promises to turn lager into craft beer with 'tea bag'\\nInfusion sachet contains a blend of hops, fruit peels and natural spices .\\nAfter two minutes in a pint, the Hop Theory bag has created 'craft beer'\\nCriticised by breweries for being misleading about what craft beer is .   \n",
              "3                                              Zach Yonzon runs the Bunny Baker Cafe with his wife in Manila .\\nArtist uses a spoon and a barbecue skewer dipped in chocolate .\\nCreates incredibly detailed portraits at the request of customers .\\nService started out as novelty when owner began etching rabbits .\\nArtistic barista hopes to one day be able to create 3D caricatures .   \n",
              "4  A graphic on NBC's Today show on Wednesday misidentified Saturday Night Live creator Lorne Michaels as 'Lauren'\\nThe flub by a graphics person, made on the East Coast feed of the morning show, was corrected for broadcasts in other time zones and online .\\nToday interviewed 70-year-old Michaels for a story  on New York gathering for influential people listed by TIME magazine .   \n",
              "\n",
              "                                         id  \n",
              "0  39553f1871b87d88d22bd3a1dd938b0142ced6ca  \n",
              "1  738faf68a71f062e01376b06f4e1f12507e9cdbf  \n",
              "2  03b0e69b52d27eb51f4aa2af9769913ad8352002  \n",
              "3  dc69e09212bb9ac1965ba53f7437c7a5f9193eb4  \n",
              "4  451829b5e4171ac3b54d2c4457b09855d429c33a  "
            ]
          },
          "execution_count": 47,
          "metadata": {},
          "output_type": "execute_result"
        }
      ],
      "source": [
        "import pandas as pd\n",
        "pd.set_option(\n",
        "    \"display.max_colwidth\", 1000\n",
        ")\n",
        "\n",
        "train_df = pd.read_json(\"./src/Finetune/cnn_daily.jsonl\", lines=True)\n",
        "train_df.head()"
      ]
    },
    {
      "attachments": {},
      "cell_type": "markdown",
      "metadata": {
        "nteract": {
          "transient": {
            "deleting": false
          }
        }
      },
      "source": [
        "#### 6. Finetune the T5 small model for Summarization task\n",
        "\n",
        "Leveraging Deepspeed and Onnxruntime accelarators for improving the efficiency for memory and compute and in turn reduce the training cost. \n",
        "\n",
        "The table below details some of the parameters passed to the training job.\n",
        "\n",
        "| Parameters/accelarators | Description |\n",
        "| ----------------- | --- |\n",
        "| model_name | The name of the model getting finetuned. Here we specify T5-small. |\n",
        "| ort | [Onnx runtime](https://github.com/microsoft/onnxruntime) accelarates 2x speed up in training time for SOTA models and optimizes memory to fit larger model such as GPT3 on 16GB GPU which would otherwise run out of mmemory. |\n",
        "| deepspeed | [Deepspeed](https://github.com/microsoft/deepspeed) enables running billions of parameter models distributed across GPUs and provide different stages for memory and compute efficiency. |\n",
        "| number of epochs | 1 |\n",
        "| max train samples | 10 |\n",
        "| Nebula | checkpointing |\n"
      ]
    },
    {
      "cell_type": "code",
      "execution_count": 48,
      "metadata": {
        "gather": {
          "logged": 1684438864620
        },
        "jupyter": {
          "outputs_hidden": false,
          "source_hidden": false
        },
        "nteract": {
          "transient": {
            "deleting": false
          }
        }
      },
      "outputs": [
        {
          "name": "stdout",
          "output_type": "stream",
          "text": [
            "huggingface/tokenizers: The current process just got forked, after parallelism has already been used. Disabling parallelism to avoid deadlocks...\n",
            "To disable this warning, you can either:\n",
            "\t- Avoid using `tokenizers` before the fork if possible\n",
            "\t- Explicitly set the environment variable TOKENIZERS_PARALLELISM=(true | false)\n",
            "huggingface/tokenizers: The current process just got forked, after parallelism has already been used. Disabling parallelism to avoid deadlocks...\n",
            "To disable this warning, you can either:\n",
            "\t- Avoid using `tokenizers` before the fork if possible\n",
            "\t- Explicitly set the environment variable TOKENIZERS_PARALLELISM=(true | false)\n",
            "huggingface/tokenizers: The current process just got forked, after parallelism has already been used. Disabling parallelism to avoid deadlocks...\n",
            "To disable this warning, you can either:\n",
            "\t- Avoid using `tokenizers` before the fork if possible\n",
            "\t- Explicitly set the environment variable TOKENIZERS_PARALLELISM=(true | false)\n",
            "huggingface/tokenizers: The current process just got forked, after parallelism has already been used. Disabling parallelism to avoid deadlocks...\n",
            "To disable this warning, you can either:\n",
            "\t- Avoid using `tokenizers` before the fork if possible\n",
            "\t- Explicitly set the environment variable TOKENIZERS_PARALLELISM=(true | false)\n",
            "huggingface/tokenizers: The current process just got forked, after parallelism has already been used. Disabling parallelism to avoid deadlocks...\n",
            "To disable this warning, you can either:\n",
            "\t- Avoid using `tokenizers` before the fork if possible\n",
            "\t- Explicitly set the environment variable TOKENIZERS_PARALLELISM=(true | false)\n",
            "huggingface/tokenizers: The current process just got forked, after parallelism has already been used. Disabling parallelism to avoid deadlocks...\n",
            "To disable this warning, you can either:\n",
            "\t- Avoid using `tokenizers` before the fork if possible\n",
            "\t- Explicitly set the environment variable TOKENIZERS_PARALLELISM=(true | false)\n",
            "huggingface/tokenizers: The current process just got forked, after parallelism has already been used. Disabling parallelism to avoid deadlocks...\n",
            "To disable this warning, you can either:\n",
            "\t- Avoid using `tokenizers` before the fork if possible\n",
            "\t- Explicitly set the environment variable TOKENIZERS_PARALLELISM=(true | false)\n",
            ".huggingface/tokenizers: The current process just got forked, after parallelism has already been used. Disabling parallelism to avoid deadlocks...\n",
            "To disable this warning, you can either:\n",
            "\t- Avoid using `tokenizers` before the fork if possible\n",
            "\t- Explicitly set the environment variable TOKENIZERS_PARALLELISM=(true | false)\n"
          ]
        },
        {
          "data": {
            "text/plain": [
              "'https://ml.azure.com/runs/witty_screw_hmmsvtnqhz?wsid=/subscriptions/ed2cab61-14cc-4fb3-ac23-d72609214cfd/resourcegroups/AMLDataCache/workspaces/datacachetest&tid=72f988bf-86f1-41af-91ab-2d7cd011db47'"
            ]
          },
          "execution_count": 48,
          "metadata": {},
          "output_type": "execute_result"
        }
      ],
      "source": [
        "from azure.ai.ml import command\n",
        "\n",
        "env_name = \"MSBuildLab110_env@latest\" # FOR DEMO\n",
        "\n",
        "job = command(\n",
        "    code=\"src/Finetune/\",\n",
        "    command=\"python train_summarization_optimum.py \\\n",
        "        --deepspeed ds_config.json \\\n",
        "        --model_name_or_path t5-small \\\n",
        "        --dataset_name cnn_dailymail \\\n",
        "        --max_train_samples=10 \\\n",
        "        --max_eval_samples=10 \\\n",
        "        --dataset_config '3.0.0' \\\n",
        "        --do_train \\\n",
        "        --num_train_epochs=1 \\\n",
        "        --per_device_train_batch_size=16 \\\n",
        "        --per_device_eval_batch_size=16  \\\n",
        "        --output_dir outputs \\\n",
        "        --overwrite_output_dir \\\n",
        "        --fp16 \\\n",
        "        --optim adamw_ort_fused\",\n",
        "    compute=compute_cluster,\n",
        "    environment=env_name,\n",
        "    instance_count=1,  \n",
        "    distribution={\n",
        "        \"type\": \"PyTorch\",\n",
        "        \"process_count_per_instance\": 8,\n",
        "    },\n",
        ")\n",
        "job = ml_client.jobs.create_or_update(job)\n",
        "job.studio_url"
      ]
    },
    {
      "attachments": {},
      "cell_type": "markdown",
      "metadata": {},
      "source": [
        "#### Results show **~300%** improvement of Fine-tune job with 100 epoch and CNN_Daily dataset with ORT, Deepspeed and Nebula checkpointing\n",
        "\n",
        "| Accelerator | Train Runtime | Train Samples Per Sec | Train Steps Per Sec | Train Loss | FLOPS          | AML Link                                                   |\n",
        "| ----------- | ------------- | --------------------- | ------------------- | ---------- | -------------- | ---------------------------------------------------------- |\n",
        "| -           | 1d 9h 6m 22s  | 241.782               | 0.945               | 1.704454   | 7.7719 x 10^18 | [100epoch_and_no_accelarator][100epoch_and_no_accelarator] |\n",
        "| ORT+DS      | 10h 53 m 36s  | 744.384               | 2.909               | 1.850196   | 7.8759 x 10^18 | [100epoch_with_DS_ORT_Nebula][100epoch_with_DS_ORT_Nebula] |\n",
        "\n",
        "[100epoch_and_no_accelarator]: https://ml.azure.com/experiments/id/236409a2-f1d9-41da-9b7e-19ec7bfd23a6/runs/tough_cord_3wz4fymfjf?wsid=/subscriptions/ed2cab61-14cc-4fb3-ac23-d72609214cfd/resourcegroups/AMLDataCache/workspaces/datacachetest&tid=72f988bf-86f1-41af-91ab-2d7cd011db47\n",
        "[100epoch_with_DS_ORT_Nebula]: https://ml.azure.com/experiments/id/236409a2-f1d9-41da-9b7e-19ec7bfd23a6/runs/tough_fennel_7n42y51slk?wsid=/subscriptions/ed2cab61-14cc-4fb3-ac23-d72609214cfd/resourcegroups/AMLDataCache/workspaces/datacachetest&tid=72f988bf-86f1-41af-91ab-2d7cd011db47"
      ]
    },
    {
      "attachments": {},
      "cell_type": "markdown",
      "metadata": {
        "nteract": {
          "transient": {
            "deleting": false
          }
        }
      },
      "source": [
        "#### 7. Operationalizing the model"
      ]
    },
    {
      "attachments": {},
      "cell_type": "markdown",
      "metadata": {
        "nteract": {
          "transient": {
            "deleting": false
          }
        }
      },
      "source": [
        "##### 7.1 Register Onnx model\n",
        "**NOTE: STEP 6 (T5 FINETUNE) MUST COMPLETE BEFORE RUNNING THIS CELL**"
      ]
    },
    {
      "cell_type": "code",
      "execution_count": 49,
      "metadata": {
        "gather": {
          "logged": 1684439751829
        },
        "jupyter": {
          "outputs_hidden": false,
          "source_hidden": false
        },
        "nteract": {
          "transient": {
            "deleting": false
          }
        }
      },
      "outputs": [
        {
          "name": "stdout",
          "output_type": "stream",
          "text": [
            "."
          ]
        },
        {
          "data": {
            "text/plain": [
              "Model({'job_name': 'loyal_nose_p0r4vzq8w8', 'is_anonymous': False, 'auto_increment_version': False, 'name': 'T5Model_onnx', 'description': 'Model created from cloud path.', 'tags': {}, 'properties': {}, 'id': '/subscriptions/ed2cab61-14cc-4fb3-ac23-d72609214cfd/resourceGroups/AMLDataCache/providers/Microsoft.MachineLearningServices/workspaces/datacachetest/models/T5Model_onnx/versions/1689028640', 'Resource__source_path': None, 'base_path': '/bert_ort/prathikrao/onnxruntime-training-examples/T5', 'creation_context': <azure.ai.ml.entities._system_data.SystemData object at 0x7fd1c0eb8d60>, 'serialize': <msrest.serialization.Serializer object at 0x7fd175a7a070>, 'version': '1689028640', 'latest_version': None, 'path': 'azureml://subscriptions/ed2cab61-14cc-4fb3-ac23-d72609214cfd/resourceGroups/AMLDataCache/workspaces/datacachetest/datastores/workspaceartifactstore/paths/ExperimentRun/dcid.loyal_nose_p0r4vzq8w8/outputs/onnx', 'datastore': None, 'utc_time_created': None, 'flavors': None, 'arm_type': 'model_version', 'type': 'custom_model'})"
            ]
          },
          "execution_count": 49,
          "metadata": {},
          "output_type": "execute_result"
        }
      ],
      "source": [
        "from azure.ai.ml.constants import AssetTypes\n",
        "from azure.ai.ml.entities import Model\n",
        "import time\n",
        "\n",
        "timestamp = str(int(time.time()))\n",
        "model_name = \"T5Model\"\n",
        "job.name = \"loyal_nose_p0r4vzq8w8\" # FOR DEMO\n",
        "\n",
        "#Onnx model registration\n",
        "modelpath = \"azureml://jobs/{jobname}/outputs/artifacts/outputs/onnx\".format(jobname = job.name)\n",
        "cloud_model = Model(\n",
        "    path=modelpath,\n",
        "    name=model_name+\"_onnx\",\n",
        "    type=AssetTypes.CUSTOM_MODEL,\n",
        "    description=\"Model created from cloud path.\",\n",
        "    version=timestamp,\n",
        ")\n",
        "ml_client.models.create_or_update(cloud_model)"
      ]
    },
    {
      "attachments": {},
      "cell_type": "markdown",
      "metadata": {
        "nteract": {
          "transient": {
            "deleting": false
          }
        }
      },
      "source": [
        "##### 7.2 Create online endpoint\n",
        "Online endpoints give a durable REST API that can be used to integrate with applications that need to use the model."
      ]
    },
    {
      "cell_type": "code",
      "execution_count": 50,
      "metadata": {
        "gather": {
          "logged": 1684439142063
        },
        "jupyter": {
          "outputs_hidden": false,
          "source_hidden": false
        },
        "nteract": {
          "transient": {
            "deleting": false
          }
        }
      },
      "outputs": [
        {
          "name": "stdout",
          "output_type": "stream",
          "text": [
            "huggingface/tokenizers: The current process just got forked, after parallelism has already been used. Disabling parallelism to avoid deadlocks...\n",
            "To disable this warning, you can either:\n",
            "\t- Avoid using `tokenizers` before the fork if possible\n",
            "\t- Explicitly set the environment variable TOKENIZERS_PARALLELISM=(true | false)\n"
          ]
        },
        {
          "name": "stdout",
          "output_type": "stream",
          "text": [
            "huggingface/tokenizers: The current process just got forked, after parallelism has already been used. Disabling parallelism to avoid deadlocks...\n",
            "To disable this warning, you can either:\n",
            "\t- Avoid using `tokenizers` before the fork if possible\n",
            "\t- Explicitly set the environment variable TOKENIZERS_PARALLELISM=(true | false)\n",
            "........................."
          ]
        },
        {
          "data": {
            "text/plain": [
              "ManagedOnlineEndpoint({'public_network_access': 'Enabled', 'provisioning_state': 'Succeeded', 'scoring_uri': 'https://endpt-07102237737235.eastus.inference.ml.azure.com/score', 'openapi_uri': 'https://endpt-07102237737235.eastus.inference.ml.azure.com/swagger.json', 'name': 'endpt-07102237737235', 'description': 'this is a endpoint for T5 summarization model', 'tags': {}, 'properties': {'azureml.onlineendpointid': '/subscriptions/ed2cab61-14cc-4fb3-ac23-d72609214cfd/resourcegroups/amldatacache/providers/microsoft.machinelearningservices/workspaces/datacachetest/onlineendpoints/endpt-07102237737235', 'AzureAsyncOperationUri': 'https://management.azure.com/subscriptions/ed2cab61-14cc-4fb3-ac23-d72609214cfd/providers/Microsoft.MachineLearningServices/locations/eastus/mfeOperationsStatus/oe:3f9aec1f-8bce-45dd-9358-bb5750b6f300:d304a2c4-1355-4c0a-8f13-d7329ff5edf4?api-version=2022-02-01-preview'}, 'id': '/subscriptions/ed2cab61-14cc-4fb3-ac23-d72609214cfd/resourceGroups/AMLDataCache/providers/Microsoft.MachineLearningServices/workspaces/datacachetest/onlineEndpoints/endpt-07102237737235', 'Resource__source_path': None, 'base_path': '/bert_ort/prathikrao/onnxruntime-training-examples/T5', 'creation_context': None, 'serialize': <msrest.serialization.Serializer object at 0x7fd1c0d81c10>, 'auth_mode': 'key', 'location': 'eastus', 'identity': <azure.ai.ml.entities._credentials.IdentityConfiguration object at 0x7fd466fd3310>, 'traffic': {}, 'mirror_traffic': {}, 'kind': 'Managed'})"
            ]
          },
          "execution_count": 50,
          "metadata": {},
          "output_type": "execute_result"
        }
      ],
      "source": [
        "from azure.ai.ml.entities import ManagedOnlineEndpoint\n",
        "import datetime\n",
        "\n",
        "# Define an endpoint name\n",
        "endpoint_name = \"endpt-\" + datetime.datetime.now().strftime(\"%m%d%H%M%f\")\n",
        "\n",
        "# create an online endpoint\n",
        "endpoint = ManagedOnlineEndpoint(\n",
        "    name = endpoint_name, \n",
        "    description=\"this is a endpoint for T5 summarization model\",\n",
        "    auth_mode=\"key\"\n",
        ")\n",
        "\n",
        "ml_client.online_endpoints.begin_create_or_update(endpoint).wait()\n",
        "ml_client.begin_create_or_update(endpoint).result()"
      ]
    },
    {
      "attachments": {},
      "cell_type": "markdown",
      "metadata": {
        "nteract": {
          "transient": {
            "deleting": false
          }
        }
      },
      "source": [
        "##### 7.3 Deploy scoring file to the endpoint"
      ]
    },
    {
      "cell_type": "code",
      "execution_count": 51,
      "metadata": {
        "gather": {
          "logged": 1684439501278
        },
        "jupyter": {
          "outputs_hidden": false,
          "source_hidden": false
        },
        "nteract": {
          "transient": {
            "deleting": false
          }
        }
      },
      "outputs": [
        {
          "name": "stdout",
          "output_type": "stream",
          "text": [
            "."
          ]
        },
        {
          "name": "stderr",
          "output_type": "stream",
          "text": [
            "Check: endpoint endpt-07102237737235 exists\n"
          ]
        },
        {
          "name": "stdout",
          "output_type": "stream",
          "text": [
            "."
          ]
        },
        {
          "name": "stderr",
          "output_type": "stream",
          "text": [
            "Your file exceeds 100 MB. If you experience low upload speeds or latency, we recommend using the AzCopy tool for this file transfer. See https://docs.microsoft.com/azure/storage/common/storage-use-azcopy-v10 for more information.\n",
            "Uploading T5 (976.29 MBs):   0%|          | 1819240/976292071 [00:01<09:30, 1709020.01it/s]"
          ]
        },
        {
          "name": "stdout",
          "output_type": "stream",
          "text": [
            "."
          ]
        },
        {
          "name": "stderr",
          "output_type": "stream",
          "text": [
            "Uploading T5 (976.29 MBs): 100%|██████████| 976292071/976292071 [00:05<00:00, 164452459.11it/s]\n",
            "\n",
            "\n"
          ]
        },
        {
          "name": "stdout",
          "output_type": "stream",
          "text": [
            "."
          ]
        },
        {
          "name": "stderr",
          "output_type": "stream",
          "text": [
            "data_collector is not a known attribute of class <class 'azure.ai.ml._restclient.v2022_02_01_preview.models._models_py3.ManagedOnlineDeployment'> and will be ignored\n"
          ]
        },
        {
          "name": "stdout",
          "output_type": "stream",
          "text": [
            "."
          ]
        },
        {
          "data": {
            "text/plain": [
              "<azure.core.polling._poller.LROPoller at 0x7fd46457b550>"
            ]
          },
          "execution_count": 51,
          "metadata": {},
          "output_type": "execute_result"
        }
      ],
      "source": [
        "from azure.ai.ml.entities import (\n",
        "    CodeConfiguration,\n",
        "    ManagedOnlineDeployment\n",
        ")\n",
        "\n",
        "model = ml_client.models.get(name=model_name+\"_onnx\", version = timestamp)\n",
        "\n",
        "blue_deployment = ManagedOnlineDeployment(\n",
        "    name=\"blue\",\n",
        "    endpoint_name=endpoint_name,\n",
        "    model=model,\n",
        "    environment=\"MSBuildLab110_env@latest\",\n",
        "    code_configuration=CodeConfiguration(\n",
        "        code=\".\", scoring_script=\"src/Operationalize/score_onnx.py\"\n",
        "    ),\n",
        "    instance_type=\"Standard_F8s_v2\",\n",
        "    instance_count=1,\n",
        ")\n",
        "\n",
        "ml_client.online_deployments.begin_create_or_update(blue_deployment)"
      ]
    },
    {
      "attachments": {},
      "cell_type": "markdown",
      "metadata": {
        "nteract": {
          "transient": {
            "deleting": false
          }
        }
      },
      "source": [
        "##### 7.4: Invoke the endpoint to score data by using your model\n",
        "**NOTE: STEP 7.3 (ENDPOINT DEPLOYMENT) MUST COMPLETE BEFORE RUNNING THIS CELL**\n",
        "\n",
        "Test the blue deployment with some sample data\n"
      ]
    },
    {
      "cell_type": "code",
      "execution_count": 52,
      "metadata": {
        "jupyter": {
          "outputs_hidden": false,
          "source_hidden": false
        },
        "nteract": {
          "transient": {
            "deleting": false
          }
        }
      },
      "outputs": [
        {
          "name": "stdout",
          "output_type": "stream",
          "text": [
            ".."
          ]
        },
        {
          "data": {
            "text/plain": [
              "'{\"summary\": \"the Inflation Reduction Act lowers prescription drug costs, health care costs, and energy costs. It\\'s the most aggressive action on tackling the climate crisis in American history. It\\'ll lower the deficit and ask the ultra-wealthy and corporations to pay their fair share.\", \"inference time (seconds)\": 0.3802335262298584}'"
            ]
          },
          "execution_count": 52,
          "metadata": {},
          "output_type": "execute_result"
        }
      ],
      "source": [
        "endpoint_name = \"MSBuildLab110-endpoint\" # FOR DEMO\n",
        "\n",
        "ml_client.online_endpoints.invoke(\n",
        "    endpoint_name=endpoint_name,\n",
        "    deployment_name=\"blue\",\n",
        "    request_file=\"src/Operationalize/payload.json\",\n",
        ")"
      ]
    },
    {
      "attachments": {},
      "cell_type": "markdown",
      "metadata": {
        "nteract": {
          "transient": {
            "deleting": false
          }
        }
      },
      "source": [
        "##### 7.5: Delete the online endpoint\n",
        "Don't forget to delete the online endpoint, else you will leave the billing meter running for the compute used by the endpoint"
      ]
    },
    {
      "cell_type": "code",
      "execution_count": 53,
      "metadata": {
        "gather": {
          "logged": 1684306030654
        },
        "jupyter": {
          "outputs_hidden": false,
          "source_hidden": false
        },
        "nteract": {
          "transient": {
            "deleting": false
          }
        }
      },
      "outputs": [
        {
          "name": "stdout",
          "output_type": "stream",
          "text": [
            "..............."
          ]
        }
      ],
      "source": [
        "ml_client.online_endpoints.begin_delete(name=endpoint_name)"
      ]
    },
    {
      "attachments": {},
      "cell_type": "markdown",
      "metadata": {
        "nteract": {
          "transient": {
            "deleting": false
          }
        }
      },
      "source": [
        "#### Aside: Scoring files for ONNX Runtime Inference vs. Hugging Face Inference\n",
        "\n",
        "![Image](assets/T5_beamsearch.png)"
      ]
    },
    {
      "cell_type": "code",
      "execution_count": null,
      "metadata": {
        "gather": {
          "logged": 1684906894100
        },
        "jupyter": {
          "outputs_hidden": false,
          "source_hidden": false
        },
        "nteract": {
          "transient": {
            "deleting": false
          }
        }
      },
      "outputs": [
        {
          "name": "stdout",
          "output_type": "stream",
          "text": [
            ".{'summary': \"the Inflation Reduction Act lowers prescription drug costs, health care costs, and energy costs. It's the most aggressive action on tackling the climate crisis in American history. It'll lower the deficit and ask the ultra-wealthy and corporations to pay their fair share.\"}\n",
            "time 0.41439123153686525 sec\n"
          ]
        }
      ],
      "source": [
        "import json \n",
        "import numpy as np\n",
        "import onnxruntime\n",
        "onnxruntime.set_default_logger_severity(3)\n",
        "import os\n",
        "import time\n",
        "from transformers import AutoTokenizer\n",
        "\n",
        "# Documentation: https://learn.microsoft.com/en-us/azure/machine-learning/how-to-deploy-online-endpoints\n",
        "# Troubleshooting: https://learn.microsoft.com/en-us/azure/machine-learning/how-to-troubleshoot-online-endpoints\n",
        "  \n",
        "# The init() method is called once, when the web service starts up.\n",
        "def init():  \n",
        "    global SESS\n",
        "    global TOKENIZER\n",
        "    # The AZUREML_MODEL_DIR environment variable indicates  \n",
        "    # a directory containing the model file you registered.  \n",
        "    # model_filename = os.path.join(os.environ['AZUREML_MODEL_DIR'], \"onnx/outputs_beam_search.onnx\")  \n",
        "\n",
        "    model_filename = \"src/Model/onnx/outputs_beam_search.onnx\" \n",
        "    SESS = onnxruntime.InferenceSession(model_filename, providers=[\"CPUExecutionProvider\"])\n",
        "\n",
        "    TOKENIZER = AutoTokenizer.from_pretrained(\"t5-small\")\n",
        "  \n",
        "# The run() method is called each time a request is made to the scoring API.  \n",
        "def run(data):\n",
        "    json_data = json.loads(data)\n",
        "    input_data = json_data[\"inputs\"][\"article\"]\n",
        "    \n",
        "    input_ids = TOKENIZER(str(input_data), return_tensors=\"pt\").input_ids\n",
        "\n",
        "    ort_inputs = {\n",
        "        \"input_ids\": np.array(input_ids, dtype=np.int32),\n",
        "        \"max_length\": np.array([512], dtype=np.int32),\n",
        "        \"min_length\": np.array([0], dtype=np.int32),\n",
        "        \"num_beams\": np.array([1], dtype=np.int32),\n",
        "        \"num_return_sequences\": np.array([1], dtype=np.int32),\n",
        "        \"length_penalty\": np.array([1.0], dtype=np.float32),\n",
        "        \"repetition_penalty\": np.array([1.0], dtype=np.float32)\n",
        "    }\n",
        "    \n",
        "    out = SESS.run(None, ort_inputs)[0][0] # 0th batch, 0th sample\n",
        "\n",
        "    summary = TOKENIZER.decode(out[0], skip_special_tokens=True)\n",
        "\n",
        "    # You can return any JSON-serializable object.\n",
        "    return {\"summary\": summary}\n",
        "\n",
        "def test():\n",
        "    # NOTE: You need to comment out model_filename = os.path.join(...) in init() for local testing\n",
        "    init()\n",
        "    payload = {\n",
        "        \"inputs\": {\n",
        "            \"article\": [\"summarize: The Inflation Reduction Act lowers prescription drug costs, health care costs, and energy costs. It's the most aggressive action on tackling the climate crisis in American history, which will lift up American workers and create good-paying, union jobs across the country. It'll lower the deficit and ask the ultra-wealthy and corporations to pay their fair share. And no one making under $400,000 per year will pay a penny more in taxes.\"],\n",
        "            \"params\": {\n",
        "                \"max_new_tokens\": 512\n",
        "            }\n",
        "        }\n",
        "    }\n",
        "    payload = str.encode(json.dumps(payload))\n",
        "    res = run(payload)\n",
        "    print(res)\n",
        "\n",
        "    # timed run\n",
        "    start = time.time()\n",
        "    for i in range(10):\n",
        "        _ = run(payload)\n",
        "    diff = time.time() - start\n",
        "    print(f\"time {diff/10} sec\")\n",
        "\n",
        "test()\n"
      ]
    },
    {
      "cell_type": "code",
      "execution_count": null,
      "metadata": {
        "gather": {
          "logged": 1684442248813
        },
        "jupyter": {
          "outputs_hidden": false,
          "source_hidden": false
        },
        "nteract": {
          "transient": {
            "deleting": false
          }
        }
      },
      "outputs": [
        {
          "name": "stdout",
          "output_type": "stream",
          "text": [
            ".{'summary': \"the Inflation Reduction Act lowers prescription drug costs, health care costs, and energy costs. It's the most aggressive action on tackling the climate crisis in American history. It'll lower the deficit and ask the ultra-wealthy and corporations to pay their fair share.\"}\n",
            "...time 1.7115404605865479 sec\n"
          ]
        },
        {
          "name": "stdout",
          "output_type": "stream",
          "text": [
            "..."
          ]
        }
      ],
      "source": [
        "import numpy as np\n",
        "import os\n",
        "from transformers import pipeline\n",
        "import json \n",
        "import time\n",
        "import joblib\n",
        "from transformers import AutoTokenizer, AutoConfig\n",
        "from transformers import AutoModelForSeq2SeqLM\n",
        "import torch\n",
        "\n",
        "# Documentation: https://learn.microsoft.com/en-us/azure/machine-learning/how-to-deploy-online-endpoints\n",
        "# Troubleshooting: https://learn.microsoft.com/en-us/azure/machine-learning/how-to-troubleshoot-online-endpoints\n",
        "  \n",
        "# The init() method is called once, when the web service starts up.\n",
        "def init():  \n",
        "    global MODEL\n",
        "    global TOKENIZER\n",
        "    # The AZUREML_MODEL_DIR environment variable indicates  \n",
        "    # a directory containing the model file you registered.  \n",
        "    # model_path = os.path.join(os.environ['AZUREML_MODEL_DIR'])\n",
        "    # model_file = os.path.join(os.environ['AZUREML_MODEL_DIR'], \"pytorch_model.bin\")\n",
        "\n",
        "    model_path = \"src/Model\"\n",
        "    model_file = \"src/Model/pytorch_model.bin\"\n",
        "    TOKENIZER = AutoTokenizer.from_pretrained(model_path)\n",
        "    config = AutoConfig.from_pretrained(model_path)\n",
        "    MODEL = AutoModelForSeq2SeqLM.from_pretrained(model_file, config=config) \n",
        "    \n",
        "  \n",
        "# The run() method is called each time a request is made to the scoring API.  \n",
        "def run(data):\n",
        "    json_data = json.loads(data)\n",
        "    input_data = json_data[\"inputs\"][\"article\"]\n",
        "    inputs = TOKENIZER(str(input_data), return_tensors=\"pt\").input_ids\n",
        "\n",
        "    out = MODEL.generate(inputs, max_new_tokens=512, do_sample=False)\n",
        "\n",
        "    summary = TOKENIZER.decode(out[0], skip_special_tokens=True)\n",
        "      \n",
        "    # You can return any JSON-serializable object.  \n",
        "    return {\"summary\": summary}\n",
        "\n",
        "    \n",
        "def test():\n",
        "    # NOTE: You need to comment out model_file/path = os.path.join(...) in init() for local testing\n",
        "    init()\n",
        "    payload = {\n",
        "        \"inputs\": {\n",
        "            \"article\": [\"summarize: The Inflation Reduction Act lowers prescription drug costs, health care costs, and energy costs. It's the most aggressive action on tackling the climate crisis in American history, which will lift up American workers and create good-paying, union jobs across the country. It'll lower the deficit and ask the ultra-wealthy and corporations to pay their fair share. And no one making under $400,000 per year will pay a penny more in taxes.\"],\n",
        "            \"params\": {\n",
        "                \"max_new_tokens\": 512\n",
        "            }\n",
        "        }\n",
        "    }\n",
        "    payload = str.encode(json.dumps(payload))\n",
        "    res = run(payload)\n",
        "    print(res)\n",
        "    \n",
        "    # timed run\n",
        "    start = time.time()\n",
        "    for i in range(10):\n",
        "        _ = run(payload)\n",
        "    diff = time.time() - start\n",
        "    print(f\"time {diff/10} sec\")\n",
        "\n",
        "test()"
      ]
    }
  ],
  "metadata": {
    "kernel_info": {
      "name": "python3"
    },
    "kernelspec": {
      "display_name": "Python 3 (ipykernel)",
      "language": "python",
      "name": "python3"
    },
    "language_info": {
      "codemirror_mode": {
        "name": "ipython",
        "version": 3
      },
      "file_extension": ".py",
      "mimetype": "text/x-python",
      "name": "python",
      "nbconvert_exporter": "python",
      "pygments_lexer": "ipython3",
      "version": "3.8.10"
    },
    "microsoft": {
      "host": {
        "AzureML": {
          "notebookHasBeenCompleted": true
        }
      },
      "ms_spell_check": {
        "ms_spell_check_language": "en"
      }
    },
    "nteract": {
      "version": "nteract-front-end@1.0.0"
    }
  },
  "nbformat": 4,
  "nbformat_minor": 2
}
